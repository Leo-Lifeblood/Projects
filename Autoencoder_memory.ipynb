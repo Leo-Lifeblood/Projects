{
  "nbformat": 4,
  "nbformat_minor": 0,
  "metadata": {
    "colab": {
      "provenance": [],
      "gpuType": "A100",
      "machine_shape": "hm",
      "include_colab_link": true
    },
    "kernelspec": {
      "name": "python3",
      "display_name": "Python 3"
    },
    "language_info": {
      "name": "python"
    },
    "accelerator": "GPU",
    "widgets": {
      "application/vnd.jupyter.widget-state+json": {
        "1b103a0a829047e8b20dcaaa1c941c16": {
          "model_module": "@jupyter-widgets/controls",
          "model_name": "HBoxModel",
          "model_module_version": "1.5.0",
          "state": {
            "_dom_classes": [],
            "_model_module": "@jupyter-widgets/controls",
            "_model_module_version": "1.5.0",
            "_model_name": "HBoxModel",
            "_view_count": null,
            "_view_module": "@jupyter-widgets/controls",
            "_view_module_version": "1.5.0",
            "_view_name": "HBoxView",
            "box_style": "",
            "children": [
              "IPY_MODEL_2f31905baa214b6c89ee933a8f65ae65",
              "IPY_MODEL_aaddc229cbfc4a53a29f8e3bb4ebb6e4",
              "IPY_MODEL_04e44a0097e548a5978c2ab142e78ea2"
            ],
            "layout": "IPY_MODEL_3c2cbbaef61d4cc18cf1bb0995d4d2a4"
          }
        },
        "2f31905baa214b6c89ee933a8f65ae65": {
          "model_module": "@jupyter-widgets/controls",
          "model_name": "HTMLModel",
          "model_module_version": "1.5.0",
          "state": {
            "_dom_classes": [],
            "_model_module": "@jupyter-widgets/controls",
            "_model_module_version": "1.5.0",
            "_model_name": "HTMLModel",
            "_view_count": null,
            "_view_module": "@jupyter-widgets/controls",
            "_view_module_version": "1.5.0",
            "_view_name": "HTMLView",
            "description": "",
            "description_tooltip": null,
            "layout": "IPY_MODEL_a37f5940e9f54bcaae1e6660117cebcc",
            "placeholder": "​",
            "style": "IPY_MODEL_aefd2ea4f55a4c45a55d78d0f0e83fd1",
            "value": ""
          }
        },
        "aaddc229cbfc4a53a29f8e3bb4ebb6e4": {
          "model_module": "@jupyter-widgets/controls",
          "model_name": "FloatProgressModel",
          "model_module_version": "1.5.0",
          "state": {
            "_dom_classes": [],
            "_model_module": "@jupyter-widgets/controls",
            "_model_module_version": "1.5.0",
            "_model_name": "FloatProgressModel",
            "_view_count": null,
            "_view_module": "@jupyter-widgets/controls",
            "_view_module_version": "1.5.0",
            "_view_name": "ProgressView",
            "bar_style": "success",
            "description": "",
            "description_tooltip": null,
            "layout": "IPY_MODEL_74686caf48ef4a009a617b13753ebd99",
            "max": 1,
            "min": 0,
            "orientation": "horizontal",
            "style": "IPY_MODEL_af706339390d4322abef619d66d9a537",
            "value": 1
          }
        },
        "04e44a0097e548a5978c2ab142e78ea2": {
          "model_module": "@jupyter-widgets/controls",
          "model_name": "HTMLModel",
          "model_module_version": "1.5.0",
          "state": {
            "_dom_classes": [],
            "_model_module": "@jupyter-widgets/controls",
            "_model_module_version": "1.5.0",
            "_model_name": "HTMLModel",
            "_view_count": null,
            "_view_module": "@jupyter-widgets/controls",
            "_view_module_version": "1.5.0",
            "_view_name": "HTMLView",
            "description": "",
            "description_tooltip": null,
            "layout": "IPY_MODEL_aea8596a75244b9bb8064ea7bf183f47",
            "placeholder": "​",
            "style": "IPY_MODEL_53d2ec634f9f41709eaf39c05284cf7f",
            "value": " 782/? [01:13&lt;00:00, 10.69it/s]"
          }
        },
        "3c2cbbaef61d4cc18cf1bb0995d4d2a4": {
          "model_module": "@jupyter-widgets/base",
          "model_name": "LayoutModel",
          "model_module_version": "1.2.0",
          "state": {
            "_model_module": "@jupyter-widgets/base",
            "_model_module_version": "1.2.0",
            "_model_name": "LayoutModel",
            "_view_count": null,
            "_view_module": "@jupyter-widgets/base",
            "_view_module_version": "1.2.0",
            "_view_name": "LayoutView",
            "align_content": null,
            "align_items": null,
            "align_self": null,
            "border": null,
            "bottom": null,
            "display": null,
            "flex": null,
            "flex_flow": null,
            "grid_area": null,
            "grid_auto_columns": null,
            "grid_auto_flow": null,
            "grid_auto_rows": null,
            "grid_column": null,
            "grid_gap": null,
            "grid_row": null,
            "grid_template_areas": null,
            "grid_template_columns": null,
            "grid_template_rows": null,
            "height": null,
            "justify_content": null,
            "justify_items": null,
            "left": null,
            "margin": null,
            "max_height": null,
            "max_width": null,
            "min_height": null,
            "min_width": null,
            "object_fit": null,
            "object_position": null,
            "order": null,
            "overflow": null,
            "overflow_x": null,
            "overflow_y": null,
            "padding": null,
            "right": null,
            "top": null,
            "visibility": null,
            "width": null
          }
        },
        "a37f5940e9f54bcaae1e6660117cebcc": {
          "model_module": "@jupyter-widgets/base",
          "model_name": "LayoutModel",
          "model_module_version": "1.2.0",
          "state": {
            "_model_module": "@jupyter-widgets/base",
            "_model_module_version": "1.2.0",
            "_model_name": "LayoutModel",
            "_view_count": null,
            "_view_module": "@jupyter-widgets/base",
            "_view_module_version": "1.2.0",
            "_view_name": "LayoutView",
            "align_content": null,
            "align_items": null,
            "align_self": null,
            "border": null,
            "bottom": null,
            "display": null,
            "flex": null,
            "flex_flow": null,
            "grid_area": null,
            "grid_auto_columns": null,
            "grid_auto_flow": null,
            "grid_auto_rows": null,
            "grid_column": null,
            "grid_gap": null,
            "grid_row": null,
            "grid_template_areas": null,
            "grid_template_columns": null,
            "grid_template_rows": null,
            "height": null,
            "justify_content": null,
            "justify_items": null,
            "left": null,
            "margin": null,
            "max_height": null,
            "max_width": null,
            "min_height": null,
            "min_width": null,
            "object_fit": null,
            "object_position": null,
            "order": null,
            "overflow": null,
            "overflow_x": null,
            "overflow_y": null,
            "padding": null,
            "right": null,
            "top": null,
            "visibility": null,
            "width": null
          }
        },
        "aefd2ea4f55a4c45a55d78d0f0e83fd1": {
          "model_module": "@jupyter-widgets/controls",
          "model_name": "DescriptionStyleModel",
          "model_module_version": "1.5.0",
          "state": {
            "_model_module": "@jupyter-widgets/controls",
            "_model_module_version": "1.5.0",
            "_model_name": "DescriptionStyleModel",
            "_view_count": null,
            "_view_module": "@jupyter-widgets/base",
            "_view_module_version": "1.2.0",
            "_view_name": "StyleView",
            "description_width": ""
          }
        },
        "74686caf48ef4a009a617b13753ebd99": {
          "model_module": "@jupyter-widgets/base",
          "model_name": "LayoutModel",
          "model_module_version": "1.2.0",
          "state": {
            "_model_module": "@jupyter-widgets/base",
            "_model_module_version": "1.2.0",
            "_model_name": "LayoutModel",
            "_view_count": null,
            "_view_module": "@jupyter-widgets/base",
            "_view_module_version": "1.2.0",
            "_view_name": "LayoutView",
            "align_content": null,
            "align_items": null,
            "align_self": null,
            "border": null,
            "bottom": null,
            "display": null,
            "flex": null,
            "flex_flow": null,
            "grid_area": null,
            "grid_auto_columns": null,
            "grid_auto_flow": null,
            "grid_auto_rows": null,
            "grid_column": null,
            "grid_gap": null,
            "grid_row": null,
            "grid_template_areas": null,
            "grid_template_columns": null,
            "grid_template_rows": null,
            "height": null,
            "justify_content": null,
            "justify_items": null,
            "left": null,
            "margin": null,
            "max_height": null,
            "max_width": null,
            "min_height": null,
            "min_width": null,
            "object_fit": null,
            "object_position": null,
            "order": null,
            "overflow": null,
            "overflow_x": null,
            "overflow_y": null,
            "padding": null,
            "right": null,
            "top": null,
            "visibility": null,
            "width": "20px"
          }
        },
        "af706339390d4322abef619d66d9a537": {
          "model_module": "@jupyter-widgets/controls",
          "model_name": "ProgressStyleModel",
          "model_module_version": "1.5.0",
          "state": {
            "_model_module": "@jupyter-widgets/controls",
            "_model_module_version": "1.5.0",
            "_model_name": "ProgressStyleModel",
            "_view_count": null,
            "_view_module": "@jupyter-widgets/base",
            "_view_module_version": "1.2.0",
            "_view_name": "StyleView",
            "bar_color": null,
            "description_width": ""
          }
        },
        "aea8596a75244b9bb8064ea7bf183f47": {
          "model_module": "@jupyter-widgets/base",
          "model_name": "LayoutModel",
          "model_module_version": "1.2.0",
          "state": {
            "_model_module": "@jupyter-widgets/base",
            "_model_module_version": "1.2.0",
            "_model_name": "LayoutModel",
            "_view_count": null,
            "_view_module": "@jupyter-widgets/base",
            "_view_module_version": "1.2.0",
            "_view_name": "LayoutView",
            "align_content": null,
            "align_items": null,
            "align_self": null,
            "border": null,
            "bottom": null,
            "display": null,
            "flex": null,
            "flex_flow": null,
            "grid_area": null,
            "grid_auto_columns": null,
            "grid_auto_flow": null,
            "grid_auto_rows": null,
            "grid_column": null,
            "grid_gap": null,
            "grid_row": null,
            "grid_template_areas": null,
            "grid_template_columns": null,
            "grid_template_rows": null,
            "height": null,
            "justify_content": null,
            "justify_items": null,
            "left": null,
            "margin": null,
            "max_height": null,
            "max_width": null,
            "min_height": null,
            "min_width": null,
            "object_fit": null,
            "object_position": null,
            "order": null,
            "overflow": null,
            "overflow_x": null,
            "overflow_y": null,
            "padding": null,
            "right": null,
            "top": null,
            "visibility": null,
            "width": null
          }
        },
        "53d2ec634f9f41709eaf39c05284cf7f": {
          "model_module": "@jupyter-widgets/controls",
          "model_name": "DescriptionStyleModel",
          "model_module_version": "1.5.0",
          "state": {
            "_model_module": "@jupyter-widgets/controls",
            "_model_module_version": "1.5.0",
            "_model_name": "DescriptionStyleModel",
            "_view_count": null,
            "_view_module": "@jupyter-widgets/base",
            "_view_module_version": "1.2.0",
            "_view_name": "StyleView",
            "description_width": ""
          }
        }
      }
    }
  },
  "cells": [
    {
      "cell_type": "markdown",
      "metadata": {
        "id": "view-in-github",
        "colab_type": "text"
      },
      "source": [
        "<a href=\"https://colab.research.google.com/github/Leo-Lifeblood/Projects/blob/main/Autoencoder_memory.ipynb\" target=\"_parent\"><img src=\"https://colab.research.google.com/assets/colab-badge.svg\" alt=\"Open In Colab\"/></a>"
      ]
    },
    {
      "cell_type": "code",
      "source": [
        "!pip install keras-nlp"
      ],
      "metadata": {
        "colab": {
          "base_uri": "https://localhost:8080/"
        },
        "id": "IJj-T69BrwbC",
        "outputId": "0daae8d3-22d1-4727-c3a1-8b527ca98114"
      },
      "execution_count": null,
      "outputs": [
        {
          "output_type": "stream",
          "name": "stdout",
          "text": [
            "Collecting keras-nlp\n",
            "  Downloading keras_nlp-0.11.1-py3-none-any.whl (515 kB)\n",
            "\u001b[2K     \u001b[90m━━━━━━━━━━━━━━━━━━━━━━━━━━━━━━━━━━━━━━━━\u001b[0m \u001b[32m515.3/515.3 kB\u001b[0m \u001b[31m8.7 MB/s\u001b[0m eta \u001b[36m0:00:00\u001b[0m\n",
            "\u001b[?25hCollecting keras-core (from keras-nlp)\n",
            "  Downloading keras_core-0.1.7-py3-none-any.whl (950 kB)\n",
            "\u001b[2K     \u001b[90m━━━━━━━━━━━━━━━━━━━━━━━━━━━━━━━━━━━━━━━━\u001b[0m \u001b[32m950.8/950.8 kB\u001b[0m \u001b[31m17.6 MB/s\u001b[0m eta \u001b[36m0:00:00\u001b[0m\n",
            "\u001b[?25hRequirement already satisfied: absl-py in /usr/local/lib/python3.10/dist-packages (from keras-nlp) (1.4.0)\n",
            "Requirement already satisfied: numpy in /usr/local/lib/python3.10/dist-packages (from keras-nlp) (1.25.2)\n",
            "Requirement already satisfied: packaging in /usr/local/lib/python3.10/dist-packages (from keras-nlp) (24.0)\n",
            "Requirement already satisfied: regex in /usr/local/lib/python3.10/dist-packages (from keras-nlp) (2023.12.25)\n",
            "Requirement already satisfied: rich in /usr/local/lib/python3.10/dist-packages (from keras-nlp) (13.7.1)\n",
            "Requirement already satisfied: dm-tree in /usr/local/lib/python3.10/dist-packages (from keras-nlp) (0.1.8)\n",
            "Requirement already satisfied: kagglehub in /usr/local/lib/python3.10/dist-packages (from keras-nlp) (0.2.5)\n",
            "Collecting tensorflow-text (from keras-nlp)\n",
            "  Downloading tensorflow_text-2.16.1-cp310-cp310-manylinux_2_17_x86_64.manylinux2014_x86_64.whl (5.2 MB)\n",
            "\u001b[2K     \u001b[90m━━━━━━━━━━━━━━━━━━━━━━━━━━━━━━━━━━━━━━━━\u001b[0m \u001b[32m5.2/5.2 MB\u001b[0m \u001b[31m40.6 MB/s\u001b[0m eta \u001b[36m0:00:00\u001b[0m\n",
            "\u001b[?25hRequirement already satisfied: requests in /usr/local/lib/python3.10/dist-packages (from kagglehub->keras-nlp) (2.31.0)\n",
            "Requirement already satisfied: tqdm in /usr/local/lib/python3.10/dist-packages (from kagglehub->keras-nlp) (4.66.4)\n",
            "Collecting namex (from keras-core->keras-nlp)\n",
            "  Downloading namex-0.0.8-py3-none-any.whl (5.8 kB)\n",
            "Requirement already satisfied: h5py in /usr/local/lib/python3.10/dist-packages (from keras-core->keras-nlp) (3.9.0)\n",
            "Requirement already satisfied: markdown-it-py>=2.2.0 in /usr/local/lib/python3.10/dist-packages (from rich->keras-nlp) (3.0.0)\n",
            "Requirement already satisfied: pygments<3.0.0,>=2.13.0 in /usr/local/lib/python3.10/dist-packages (from rich->keras-nlp) (2.16.1)\n",
            "Collecting tensorflow<2.17,>=2.16.1 (from tensorflow-text->keras-nlp)\n",
            "  Downloading tensorflow-2.16.1-cp310-cp310-manylinux_2_17_x86_64.manylinux2014_x86_64.whl (589.8 MB)\n",
            "\u001b[2K     \u001b[91m━━\u001b[0m\u001b[91m╸\u001b[0m\u001b[90m━━━━━━━━━━━━━━━━━━━━━━━━━━━━━━━━━━━━━\u001b[0m \u001b[32m43.6/589.8 MB\u001b[0m \u001b[31m212.4 MB/s\u001b[0m eta \u001b[36m0:00:03\u001b[0m"
          ]
        }
      ]
    },
    {
      "cell_type": "code",
      "execution_count": null,
      "metadata": {
        "id": "OzQP8VfPqGrE"
      },
      "outputs": [],
      "source": [
        "import tensorflow as tf\n",
        "import numpy as np\n",
        "import keras_nlp as kn\n",
        "from tqdm.notebook import tqdm"
      ]
    },
    {
      "cell_type": "code",
      "source": [
        "import numpy as np\n",
        "from tqdm.notebook import tqdm"
      ],
      "metadata": {
        "id": "hZ98b3Uh0p25"
      },
      "execution_count": null,
      "outputs": []
    },
    {
      "cell_type": "code",
      "source": [
        "dataset_size = 200_000\n",
        "#sequence_length = 128\n",
        "#sequence_length = 16\n",
        "sequence_length = 32\n",
        "#upper_bound_integers = 10\n",
        "upper_bound_integers = 60"
      ],
      "metadata": {
        "id": "BbKjQquFqV-M"
      },
      "execution_count": null,
      "outputs": []
    },
    {
      "cell_type": "code",
      "source": [
        "dataset = np.random.randint(0,upper_bound_integers,(dataset_size,sequence_length))"
      ],
      "metadata": {
        "id": "TriLTk5AqLSa"
      },
      "execution_count": null,
      "outputs": []
    },
    {
      "cell_type": "code",
      "source": [
        "dataset"
      ],
      "metadata": {
        "colab": {
          "base_uri": "https://localhost:8080/"
        },
        "id": "mErqVwpFqZSJ",
        "outputId": "9113a8b0-3dff-4855-829c-97dca0a8eb36"
      },
      "execution_count": null,
      "outputs": [
        {
          "output_type": "execute_result",
          "data": {
            "text/plain": [
              "array([[58, 48, 35, ...,  4, 46, 25],\n",
              "       [24, 38, 43, ...,  8, 26, 39],\n",
              "       [42, 14, 40, ..., 52, 53, 20],\n",
              "       ...,\n",
              "       [42, 11, 55, ...,  6, 47, 43],\n",
              "       [58, 10, 24, ..., 44, 11,  1],\n",
              "       [59, 58, 43, ..., 34, 46,  3]])"
            ]
          },
          "metadata": {},
          "execution_count": 6
        }
      ]
    },
    {
      "cell_type": "code",
      "source": [
        "\n",
        "\n",
        "class DenseGeGLU(tf.keras.layers.Layer):\n",
        "    def __init__(self, units, **kwargs):\n",
        "        super(DenseGeGLU, self).__init__(**kwargs)\n",
        "        self.units = units\n",
        "        self.dense = tf.keras.layers.Dense(self.units * 2)\n",
        "        self.norm = tf.keras.layers.LayerNormalization()\n",
        "\n",
        "    def call(self, inputs):\n",
        "        x = self.dense(inputs)\n",
        "        assert x.shape[-1] % 2 == 0\n",
        "        x, gate = tf.split(x, num_or_size_splits=2, axis=-1)\n",
        "\n",
        "        gate = tf.nn.gelu(gate)\n",
        "        return self.norm(tf.multiply(x, gate))\n",
        "\n",
        "\n",
        "\n",
        "\n",
        "class transformer_decoder_block(tf.keras.layers.Layer):\n",
        "  def __init__(self, num_heads, key_dim):\n",
        "    super().__init__()\n",
        "\n",
        "    self.norm1 = tf.keras.layers.LayerNormalization()\n",
        "\n",
        "    self.mha = tf.keras.layers.MultiHeadAttention(num_heads, key_dim)\n",
        "\n",
        "    self.norm2 = tf.keras.layers.LayerNormalization()\n",
        "\n",
        "    self.ff1 = tf.keras.layers.Dense(key_dim)\n",
        "    self.ff2 = DenseGeGLU(key_dim*4)\n",
        "    self.ff3 = tf.keras.layers.Dense(key_dim)\n",
        "\n",
        "    self.norm3 = tf.keras.layers.LayerNormalization()\n",
        "\n",
        "  def call(self, x):\n",
        "    x = self.norm1(x)\n",
        "    x2 = self.mha(x, x, use_causal_mask=True)\n",
        "    x = self.norm2(x+x2)\n",
        "    x2 = self.ff1(x)\n",
        "    x2 = self.ff2(x2)\n",
        "    x2 = self.ff3(x2)\n",
        "    x = self.norm3(x+x2)\n",
        "\n",
        "    return x\n",
        "\n",
        "class baseline(tf.keras.Model):\n",
        "  def __init__(self, vocab_size, num_heads, key_dim, num_layers):\n",
        "    super().__init__()\n",
        "    self.embeddings = kn.layers.ReversibleEmbedding(vocab_size, key_dim)\n",
        "\n",
        "    self.rope = kn.layers.RotaryEmbedding()\n",
        "\n",
        "    self.intermediate_layers = [transformer_decoder_block(num_heads, key_dim) for i in range(num_layers)]\n",
        "\n",
        "  def call(self, x):\n",
        "\n",
        "    x = self.embeddings(x)\n",
        "    x = self.rope(x)\n",
        "\n",
        "    for i in self.intermediate_layers:\n",
        "      x = i(x)\n",
        "\n",
        "    return self.embeddings(x, reverse=True)\n"
      ],
      "metadata": {
        "id": "bWE-dwcFqbBi"
      },
      "execution_count": null,
      "outputs": []
    },
    {
      "cell_type": "code",
      "source": [
        "model = baseline(upper_bound_integers, 8, 128, 3)"
      ],
      "metadata": {
        "id": "HZZw39Ytsydn"
      },
      "execution_count": null,
      "outputs": []
    },
    {
      "cell_type": "code",
      "source": [
        "X = dataset[:,:-1]\n",
        "Y = dataset[:,1:]"
      ],
      "metadata": {
        "id": "FcD-ZUyTs6G4"
      },
      "execution_count": null,
      "outputs": []
    },
    {
      "cell_type": "code",
      "source": [
        "model.compile(optimizer=tf.keras.optimizers.Adam(), loss=tf.keras.losses.SparseCategoricalCrossentropy(from_logits=True), metrics=[tf.keras.metrics.SparseCategoricalAccuracy()])"
      ],
      "metadata": {
        "id": "48R7ddQavqTF"
      },
      "execution_count": null,
      "outputs": []
    },
    {
      "cell_type": "code",
      "source": [
        "model.summary()"
      ],
      "metadata": {
        "id": "kCUM9Rl6wqN5",
        "colab": {
          "base_uri": "https://localhost:8080/",
          "height": 380
        },
        "outputId": "18bef6f5-e5bc-4856-b05c-f105de3b96ce"
      },
      "execution_count": null,
      "outputs": [
        {
          "output_type": "display_data",
          "data": {
            "text/plain": [
              "\u001b[1mModel: \"baseline_3\"\u001b[0m\n"
            ],
            "text/html": [
              "<pre style=\"white-space:pre;overflow-x:auto;line-height:normal;font-family:Menlo,'DejaVu Sans Mono',consolas,'Courier New',monospace\"><span style=\"font-weight: bold\">Model: \"baseline_3\"</span>\n",
              "</pre>\n"
            ]
          },
          "metadata": {}
        },
        {
          "output_type": "display_data",
          "data": {
            "text/plain": [
              "┏━━━━━━━━━━━━━━━━━━━━━━━━━━━━━━━━━━━━━━┳━━━━━━━━━━━━━━━━━━━━━━━━━━━━━┳━━━━━━━━━━━━━━━━━┓\n",
              "┃\u001b[1m \u001b[0m\u001b[1mLayer (type)                        \u001b[0m\u001b[1m \u001b[0m┃\u001b[1m \u001b[0m\u001b[1mOutput Shape               \u001b[0m\u001b[1m \u001b[0m┃\u001b[1m \u001b[0m\u001b[1m        Param #\u001b[0m\u001b[1m \u001b[0m┃\n",
              "┡━━━━━━━━━━━━━━━━━━━━━━━━━━━━━━━━━━━━━━╇━━━━━━━━━━━━━━━━━━━━━━━━━━━━━╇━━━━━━━━━━━━━━━━━┩\n",
              "│ reversible_embedding_13              │ ?                           │     \u001b[38;5;34m0\u001b[0m (unbuilt) │\n",
              "│ (\u001b[38;5;33mReversibleEmbedding\u001b[0m)                │                             │                 │\n",
              "├──────────────────────────────────────┼─────────────────────────────┼─────────────────┤\n",
              "│ rotary_embedding_13                  │ ?                           │               \u001b[38;5;34m0\u001b[0m │\n",
              "│ (\u001b[38;5;33mRotaryEmbedding\u001b[0m)                    │                             │                 │\n",
              "├──────────────────────────────────────┼─────────────────────────────┼─────────────────┤\n",
              "│ transformer_decoder_block_33         │ ?                           │     \u001b[38;5;34m0\u001b[0m (unbuilt) │\n",
              "│ (\u001b[38;5;33mtransformer_decoder_block\u001b[0m)          │                             │                 │\n",
              "├──────────────────────────────────────┼─────────────────────────────┼─────────────────┤\n",
              "│ transformer_decoder_block_34         │ ?                           │     \u001b[38;5;34m0\u001b[0m (unbuilt) │\n",
              "│ (\u001b[38;5;33mtransformer_decoder_block\u001b[0m)          │                             │                 │\n",
              "├──────────────────────────────────────┼─────────────────────────────┼─────────────────┤\n",
              "│ transformer_decoder_block_35         │ ?                           │     \u001b[38;5;34m0\u001b[0m (unbuilt) │\n",
              "│ (\u001b[38;5;33mtransformer_decoder_block\u001b[0m)          │                             │                 │\n",
              "└──────────────────────────────────────┴─────────────────────────────┴─────────────────┘\n"
            ],
            "text/html": [
              "<pre style=\"white-space:pre;overflow-x:auto;line-height:normal;font-family:Menlo,'DejaVu Sans Mono',consolas,'Courier New',monospace\">┏━━━━━━━━━━━━━━━━━━━━━━━━━━━━━━━━━━━━━━┳━━━━━━━━━━━━━━━━━━━━━━━━━━━━━┳━━━━━━━━━━━━━━━━━┓\n",
              "┃<span style=\"font-weight: bold\"> Layer (type)                         </span>┃<span style=\"font-weight: bold\"> Output Shape                </span>┃<span style=\"font-weight: bold\">         Param # </span>┃\n",
              "┡━━━━━━━━━━━━━━━━━━━━━━━━━━━━━━━━━━━━━━╇━━━━━━━━━━━━━━━━━━━━━━━━━━━━━╇━━━━━━━━━━━━━━━━━┩\n",
              "│ reversible_embedding_13              │ ?                           │     <span style=\"color: #00af00; text-decoration-color: #00af00\">0</span> (unbuilt) │\n",
              "│ (<span style=\"color: #0087ff; text-decoration-color: #0087ff\">ReversibleEmbedding</span>)                │                             │                 │\n",
              "├──────────────────────────────────────┼─────────────────────────────┼─────────────────┤\n",
              "│ rotary_embedding_13                  │ ?                           │               <span style=\"color: #00af00; text-decoration-color: #00af00\">0</span> │\n",
              "│ (<span style=\"color: #0087ff; text-decoration-color: #0087ff\">RotaryEmbedding</span>)                    │                             │                 │\n",
              "├──────────────────────────────────────┼─────────────────────────────┼─────────────────┤\n",
              "│ transformer_decoder_block_33         │ ?                           │     <span style=\"color: #00af00; text-decoration-color: #00af00\">0</span> (unbuilt) │\n",
              "│ (<span style=\"color: #0087ff; text-decoration-color: #0087ff\">transformer_decoder_block</span>)          │                             │                 │\n",
              "├──────────────────────────────────────┼─────────────────────────────┼─────────────────┤\n",
              "│ transformer_decoder_block_34         │ ?                           │     <span style=\"color: #00af00; text-decoration-color: #00af00\">0</span> (unbuilt) │\n",
              "│ (<span style=\"color: #0087ff; text-decoration-color: #0087ff\">transformer_decoder_block</span>)          │                             │                 │\n",
              "├──────────────────────────────────────┼─────────────────────────────┼─────────────────┤\n",
              "│ transformer_decoder_block_35         │ ?                           │     <span style=\"color: #00af00; text-decoration-color: #00af00\">0</span> (unbuilt) │\n",
              "│ (<span style=\"color: #0087ff; text-decoration-color: #0087ff\">transformer_decoder_block</span>)          │                             │                 │\n",
              "└──────────────────────────────────────┴─────────────────────────────┴─────────────────┘\n",
              "</pre>\n"
            ]
          },
          "metadata": {}
        },
        {
          "output_type": "display_data",
          "data": {
            "text/plain": [
              "\u001b[1m Total params: \u001b[0m\u001b[38;5;34m0\u001b[0m (0.00 B)\n"
            ],
            "text/html": [
              "<pre style=\"white-space:pre;overflow-x:auto;line-height:normal;font-family:Menlo,'DejaVu Sans Mono',consolas,'Courier New',monospace\"><span style=\"font-weight: bold\"> Total params: </span><span style=\"color: #00af00; text-decoration-color: #00af00\">0</span> (0.00 B)\n",
              "</pre>\n"
            ]
          },
          "metadata": {}
        },
        {
          "output_type": "display_data",
          "data": {
            "text/plain": [
              "\u001b[1m Trainable params: \u001b[0m\u001b[38;5;34m0\u001b[0m (0.00 B)\n"
            ],
            "text/html": [
              "<pre style=\"white-space:pre;overflow-x:auto;line-height:normal;font-family:Menlo,'DejaVu Sans Mono',consolas,'Courier New',monospace\"><span style=\"font-weight: bold\"> Trainable params: </span><span style=\"color: #00af00; text-decoration-color: #00af00\">0</span> (0.00 B)\n",
              "</pre>\n"
            ]
          },
          "metadata": {}
        },
        {
          "output_type": "display_data",
          "data": {
            "text/plain": [
              "\u001b[1m Non-trainable params: \u001b[0m\u001b[38;5;34m0\u001b[0m (0.00 B)\n"
            ],
            "text/html": [
              "<pre style=\"white-space:pre;overflow-x:auto;line-height:normal;font-family:Menlo,'DejaVu Sans Mono',consolas,'Courier New',monospace\"><span style=\"font-weight: bold\"> Non-trainable params: </span><span style=\"color: #00af00; text-decoration-color: #00af00\">0</span> (0.00 B)\n",
              "</pre>\n"
            ]
          },
          "metadata": {}
        }
      ]
    },
    {
      "cell_type": "markdown",
      "source": [
        "#Baseline"
      ],
      "metadata": {
        "id": "CUsSrFewx6hG"
      }
    },
    {
      "cell_type": "code",
      "source": [
        "baseline_history = model.fit(X,Y, epochs=15, batch_size=128)"
      ],
      "metadata": {
        "colab": {
          "base_uri": "https://localhost:8080/"
        },
        "id": "f172aey2v_1A",
        "outputId": "e3955033-bbb9-425b-b049-4e54b4278526"
      },
      "execution_count": null,
      "outputs": [
        {
          "output_type": "stream",
          "name": "stdout",
          "text": [
            "Epoch 1/15\n",
            "\u001b[1m1563/1563\u001b[0m \u001b[32m━━━━━━━━━━━━━━━━━━━━\u001b[0m\u001b[37m\u001b[0m \u001b[1m30s\u001b[0m 9ms/step - loss: 4.1005 - sparse_categorical_accuracy: 0.0165\n",
            "Epoch 2/15\n",
            "\u001b[1m1563/1563\u001b[0m \u001b[32m━━━━━━━━━━━━━━━━━━━━\u001b[0m\u001b[37m\u001b[0m \u001b[1m10s\u001b[0m 6ms/step - loss: 4.0951 - sparse_categorical_accuracy: 0.0167\n",
            "Epoch 3/15\n",
            "\u001b[1m1563/1563\u001b[0m \u001b[32m━━━━━━━━━━━━━━━━━━━━\u001b[0m\u001b[37m\u001b[0m \u001b[1m10s\u001b[0m 6ms/step - loss: 4.0949 - sparse_categorical_accuracy: 0.0166\n",
            "Epoch 4/15\n",
            "\u001b[1m1563/1563\u001b[0m \u001b[32m━━━━━━━━━━━━━━━━━━━━\u001b[0m\u001b[37m\u001b[0m \u001b[1m10s\u001b[0m 6ms/step - loss: 4.0945 - sparse_categorical_accuracy: 0.0167\n",
            "Epoch 5/15\n",
            "\u001b[1m1563/1563\u001b[0m \u001b[32m━━━━━━━━━━━━━━━━━━━━\u001b[0m\u001b[37m\u001b[0m \u001b[1m10s\u001b[0m 6ms/step - loss: 4.0944 - sparse_categorical_accuracy: 0.0168\n",
            "Epoch 6/15\n",
            "\u001b[1m1563/1563\u001b[0m \u001b[32m━━━━━━━━━━━━━━━━━━━━\u001b[0m\u001b[37m\u001b[0m \u001b[1m10s\u001b[0m 6ms/step - loss: 4.0944 - sparse_categorical_accuracy: 0.0167\n",
            "Epoch 7/15\n",
            "\u001b[1m1563/1563\u001b[0m \u001b[32m━━━━━━━━━━━━━━━━━━━━\u001b[0m\u001b[37m\u001b[0m \u001b[1m10s\u001b[0m 6ms/step - loss: 4.0944 - sparse_categorical_accuracy: 0.0166\n",
            "Epoch 8/15\n",
            "\u001b[1m1563/1563\u001b[0m \u001b[32m━━━━━━━━━━━━━━━━━━━━\u001b[0m\u001b[37m\u001b[0m \u001b[1m10s\u001b[0m 6ms/step - loss: 4.0944 - sparse_categorical_accuracy: 0.0167\n",
            "Epoch 9/15\n",
            "\u001b[1m1563/1563\u001b[0m \u001b[32m━━━━━━━━━━━━━━━━━━━━\u001b[0m\u001b[37m\u001b[0m \u001b[1m10s\u001b[0m 6ms/step - loss: 4.0944 - sparse_categorical_accuracy: 0.0168\n",
            "Epoch 10/15\n",
            "\u001b[1m1563/1563\u001b[0m \u001b[32m━━━━━━━━━━━━━━━━━━━━\u001b[0m\u001b[37m\u001b[0m \u001b[1m10s\u001b[0m 6ms/step - loss: 4.0944 - sparse_categorical_accuracy: 0.0166\n",
            "Epoch 11/15\n",
            "\u001b[1m1563/1563\u001b[0m \u001b[32m━━━━━━━━━━━━━━━━━━━━\u001b[0m\u001b[37m\u001b[0m \u001b[1m10s\u001b[0m 6ms/step - loss: 4.0944 - sparse_categorical_accuracy: 0.0166\n",
            "Epoch 12/15\n",
            "\u001b[1m1563/1563\u001b[0m \u001b[32m━━━━━━━━━━━━━━━━━━━━\u001b[0m\u001b[37m\u001b[0m \u001b[1m10s\u001b[0m 6ms/step - loss: 4.0944 - sparse_categorical_accuracy: 0.0168\n",
            "Epoch 13/15\n",
            "\u001b[1m1563/1563\u001b[0m \u001b[32m━━━━━━━━━━━━━━━━━━━━\u001b[0m\u001b[37m\u001b[0m \u001b[1m10s\u001b[0m 6ms/step - loss: 4.0944 - sparse_categorical_accuracy: 0.0166\n",
            "Epoch 14/15\n",
            "\u001b[1m1563/1563\u001b[0m \u001b[32m━━━━━━━━━━━━━━━━━━━━\u001b[0m\u001b[37m\u001b[0m \u001b[1m10s\u001b[0m 6ms/step - loss: 4.0944 - sparse_categorical_accuracy: 0.0166\n",
            "Epoch 15/15\n",
            "\u001b[1m1563/1563\u001b[0m \u001b[32m━━━━━━━━━━━━━━━━━━━━\u001b[0m\u001b[37m\u001b[0m \u001b[1m10s\u001b[0m 6ms/step - loss: 4.0944 - sparse_categorical_accuracy: 0.0167\n"
          ]
        }
      ]
    },
    {
      "cell_type": "markdown",
      "source": [
        "# to do:\n",
        "\n",
        "\n",
        "*   Encoder decoder network\n",
        "*   run encoder over entire dataset store state vectors\n",
        "*   Add encoder to network\n",
        "*   retrieve state vector by cosine similarity\n",
        "\n",
        "\n",
        "\n"
      ],
      "metadata": {
        "id": "F07y1QlLxjV7"
      }
    },
    {
      "cell_type": "code",
      "source": [
        "def cosine_similarity(a, b):\n",
        "    # Compute the norms of each row in both matrices\n",
        "    norm_a = np.linalg.norm(a, axis=1)\n",
        "    norm_b = np.linalg.norm(b, axis=1)\n",
        "\n",
        "    # Compute the dot product of corresponding rows\n",
        "    dot_product = np.einsum('ij,ij->i', a, b)\n",
        "\n",
        "    # Compute cosine similarity for each pair of corresponding rows\n",
        "    cos_sim = dot_product / (norm_a * norm_b)\n",
        "\n",
        "    # Return the cosine similarities as a column vector\n",
        "    return cos_sim#[:, np.newaxis]\n"
      ],
      "metadata": {
        "id": "2snBAU5MzUO_"
      },
      "execution_count": null,
      "outputs": []
    },
    {
      "cell_type": "code",
      "source": [
        "import numpy as np\n",
        "\n",
        "def cosine_similarity(a, b):\n",
        "    if len(b.shape) == 1:\n",
        "      b = b[np.newaxis, :]\n",
        "    # Compute the norms of each row in both matrices\n",
        "    norm_a = np.linalg.norm(a, axis=1)\n",
        "    norm_b = np.linalg.norm(b, axis=1)\n",
        "\n",
        "    # Compute the dot product of every row in a with every row in b\n",
        "    dot_product = np.dot(a, b.T)\n",
        "\n",
        "    # Normalize the dot products to compute the cosine similarities\n",
        "    cos_sim = dot_product / (norm_a[:, np.newaxis] * norm_b)\n",
        "\n",
        "    return cos_sim.T\n"
      ],
      "metadata": {
        "id": "p8LJ3O_l2rg_"
      },
      "execution_count": null,
      "outputs": []
    },
    {
      "cell_type": "code",
      "source": [
        "cosine_similarity(dataset,dataset[:128]).shape"
      ],
      "metadata": {
        "colab": {
          "base_uri": "https://localhost:8080/"
        },
        "id": "O2c7PnWF1YyE",
        "outputId": "2eac456a-0297-4362-c82d-6b06341a4566"
      },
      "execution_count": null,
      "outputs": [
        {
          "output_type": "execute_result",
          "data": {
            "text/plain": [
              "(128, 200000)"
            ]
          },
          "metadata": {},
          "execution_count": 54
        }
      ]
    },
    {
      "cell_type": "code",
      "source": [
        "%timeit cosine_similarity(dataset,dataset[:128])"
      ],
      "metadata": {
        "colab": {
          "base_uri": "https://localhost:8080/"
        },
        "id": "kAeDQMQA3viH",
        "outputId": "dc567a9b-cc42-432f-8d95-927fb2e98994"
      },
      "execution_count": null,
      "outputs": [
        {
          "output_type": "stream",
          "name": "stdout",
          "text": [
            "499 ms ± 7.05 ms per loop (mean ± std. dev. of 7 runs, 1 loop each)\n"
          ]
        }
      ]
    },
    {
      "cell_type": "code",
      "source": [
        "class encoder(tf.keras.Model):\n",
        "  def __init__(self, vocab_size, num_heads, key_dim, num_layers):\n",
        "    super().__init__()\n",
        "    self.embeddings = kn.layers.ReversibleEmbedding(vocab_size, key_dim)\n",
        "\n",
        "    self.rope = kn.layers.RotaryEmbedding()\n",
        "\n",
        "    self.intermediate_layers = [transformer_decoder_block(num_heads, key_dim) for i in range(num_layers)]\n",
        "\n",
        "  def call(self, x):\n",
        "\n",
        "    x = self.embeddings(x)\n",
        "    x = self.rope(x)\n",
        "\n",
        "    for i in self.intermediate_layers:\n",
        "      x = i(x)\n",
        "\n",
        "    return x\n",
        "\n",
        "\n",
        "class transformer_decoder_block_with_cross_attention(tf.keras.layers.Layer):\n",
        "  def __init__(self, num_heads, key_dim):\n",
        "    super().__init__()\n",
        "\n",
        "    self.norm1 = tf.keras.layers.LayerNormalization()\n",
        "\n",
        "    self.mha = tf.keras.layers.MultiHeadAttention(num_heads, key_dim)\n",
        "\n",
        "    self.norm2 = tf.keras.layers.LayerNormalization()\n",
        "\n",
        "    self.insurance = tf.keras.layers.Dense(key_dim)\n",
        "    self.mha2 = tf.keras.layers.MultiHeadAttention(num_heads, key_dim)\n",
        "\n",
        "    self.norm3 = tf.keras.layers.LayerNormalization()\n",
        "\n",
        "    self.ff1 = tf.keras.layers.Dense(key_dim)\n",
        "    self.ff2 = DenseGeGLU(key_dim*4)\n",
        "    self.ff3 = tf.keras.layers.Dense(key_dim)\n",
        "\n",
        "    self.norm4 = tf.keras.layers.LayerNormalization()\n",
        "\n",
        "\n",
        "\n",
        "  def call(self, x, e):\n",
        "    x = self.norm1(x)\n",
        "    x2 = self.mha(x, x, use_causal_mask=True)\n",
        "    x = self.norm2(x+x2)\n",
        "    e = self.insurance(e)\n",
        "    x2 = self.mha2(x, e, use_causal_mask=True)\n",
        "    x = self.norm3(x+x2)\n",
        "    x2 = self.ff1(x)\n",
        "    x2 = self.ff2(x2)\n",
        "    x2 = self.ff3(x2)\n",
        "    x = self.norm4(x+x2)\n",
        "\n",
        "    return x\n",
        "\n",
        "class decoder(tf.keras.Model):\n",
        "  def __init__(self, vocab_size, num_heads, key_dim, num_layers):\n",
        "    super().__init__()\n",
        "    self.embeddings = kn.layers.ReversibleEmbedding(vocab_size, key_dim)\n",
        "\n",
        "    self.rope = kn.layers.RotaryEmbedding()\n",
        "\n",
        "    self.intermediate_layers = [transformer_decoder_block_with_cross_attention(num_heads, key_dim) for i in range(num_layers)]\n",
        "\n",
        "  def call(self, x, e):\n",
        "\n",
        "    x = self.embeddings(x)\n",
        "\n",
        "\n",
        "    x = self.rope(x)\n",
        "\n",
        "    for i in self.intermediate_layers:\n",
        "      x = i(x, e)\n",
        "\n",
        "    return self.embeddings(x, reverse=True)\n",
        "\n",
        "class autoencoder(tf.keras.Model):\n",
        "  def __init__(self, vocab_size, num_heads, key_dim, num_layers):\n",
        "    super().__init__()\n",
        "\n",
        "    self.encoder = encoder(vocab_size, num_heads, key_dim, num_layers)\n",
        "\n",
        "    self.decoder = decoder(vocab_size, num_heads, key_dim, num_layers)\n",
        "\n",
        "  def call(self, x):\n",
        "    x, r = x[0], x[1]\n",
        "    e = self.encoder(x)[:,-1]\n",
        "    e = e[:,tf.newaxis,:]\n",
        "    x = self.decoder(r,e)\n",
        "\n",
        "    return x\n",
        "\n"
      ],
      "metadata": {
        "id": "MrKSFxoVd0oQ"
      },
      "execution_count": null,
      "outputs": []
    },
    {
      "cell_type": "code",
      "source": [
        "import tensorflow as tf\n",
        "\n",
        "class encoder(tf.keras.Model):\n",
        "  def __init__(self, vocab_size, num_heads, key_dim, num_layers, latent_dim):\n",
        "    super().__init__()\n",
        "    self.embeddings = kn.layers.ReversibleEmbedding(vocab_size, key_dim)\n",
        "\n",
        "    self.rope = kn.layers.RotaryEmbedding()\n",
        "\n",
        "    self.intermediate_layers = [transformer_decoder_block(num_heads, key_dim) for i in range(num_layers)]\n",
        "\n",
        "    self.mu = tf.keras.layers.Dense(latent_dim)\n",
        "    self.log_var = tf.keras.layers.Dense(latent_dim, activation=\"softplus\")\n",
        "\n",
        "    #self.norm = tf.keras.layers.LayerNormalization()\n",
        "\n",
        "  def call(self, x):\n",
        "\n",
        "    x = self.embeddings(x)\n",
        "    x = self.rope(x)\n",
        "\n",
        "    for i in self.intermediate_layers:\n",
        "      x = i(x)\n",
        "\n",
        "    mu = self.mu(x)\n",
        "    #mu = self.norm(mu)\n",
        "    log_var = self.log_var(x)+0.01\n",
        "    return mu, log_var\n",
        "\n",
        "\n",
        "\n",
        "def sampling(args):\n",
        "    \"\"\"Reparameterization trick by sampling from an isotropic unit Gaussian.\n",
        "    # Arguments\n",
        "        args (tensor): mean and log of variance of Q(z|X)\n",
        "    # Returns\n",
        "        z (tensor): sampled latent vector\n",
        "    \"\"\"\n",
        "    mu, log_var = args\n",
        "    batch = tf.shape(mu)[0]\n",
        "    dim = tf.shape(mu)[1]\n",
        "    epsilon = tf.keras.backend.random_normal(shape=(batch, dim))\n",
        "    return mu + tf.exp(0.5 * log_var) * epsilon\n",
        "\n",
        "# Update the autoencoder to use variational components\n",
        "class variational_autoencoder(tf.keras.Model):\n",
        "    def __init__(self, encoder_vocab_size, encoder_num_heads, encoder_key_dim, encoder_num_layers, latent_dim, decoder_vocab_size, decoder_num_heads, decoder_key_dim, decoder_num_layers):\n",
        "        super().__init__()\n",
        "        self.encoder = encoder(encoder_vocab_size, encoder_num_heads, encoder_key_dim, encoder_num_layers, latent_dim)\n",
        "        self.decoder = decoder(decoder_vocab_size, decoder_num_heads, decoder_key_dim, decoder_num_layers)\n",
        "\n",
        "        self.noise = tf.keras.layers.GaussianNoise(1)\n",
        "\n",
        "    def call(self, x):\n",
        "        x, r = x[0], x[1]\n",
        "        mu, log_var = self.encoder(x)\n",
        "        mu = self.noise(mu)\n",
        "        mu, log_var = mu[:,-1], log_var[:,-1]\n",
        "        z = sampling((mu, log_var))\n",
        "        x_reconstructed = self.decoder(r, z[:, tf.newaxis, :])\n",
        "        return x_reconstructed\n",
        "\n",
        "# Ensure to handle the loss function appropriately\n"
      ],
      "metadata": {
        "id": "6fWErw6Et-8J"
      },
      "execution_count": null,
      "outputs": []
    },
    {
      "cell_type": "code",
      "source": [
        "test = autoencoder(10, 3, 12, 3)"
      ],
      "metadata": {
        "id": "XbpPTMtOgQJU"
      },
      "execution_count": null,
      "outputs": []
    },
    {
      "cell_type": "code",
      "source": [
        "test = variational_autoencoder(upper_bound_integers, 8, 64, 4, 64, upper_bound_integers, 6, 24, 3)\n",
        "#test = variational_autoencoder(upper_bound_integers, 8, 256, 4, upper_bound_integers, 8, 256, 3)"
      ],
      "metadata": {
        "id": "KgBgM_mtvwMa"
      },
      "execution_count": null,
      "outputs": []
    },
    {
      "cell_type": "code",
      "source": [
        "\"\"\" # this is incredibly prone to model collapse (that seems to just be a consequence of my implementation of the transformer though)\n",
        "# for longer sequences\n",
        "dataset_size = 200_000\n",
        "sequence_length = 32\n",
        "upper_bound_integers = 60\n",
        "\n",
        "dataset = np.random.randint(0,upper_bound_integers,(dataset_size,sequence_length))\n",
        "\n",
        "test = variational_autoencoder(upper_bound_integers, 8, 150, 4, 100, upper_bound_integers, 6, 48, 3)\n",
        "\"\"\""
      ],
      "metadata": {
        "id": "kXqa-GcP8um9"
      },
      "execution_count": null,
      "outputs": []
    },
    {
      "cell_type": "code",
      "source": [
        "test.compile(optimizer=tf.keras.optimizers.Adam(), loss=tf.keras.losses.SparseCategoricalCrossentropy(from_logits=True), metrics=[tf.keras.metrics.SparseCategoricalAccuracy()])\n",
        "test.summary()"
      ],
      "metadata": {
        "colab": {
          "base_uri": "https://localhost:8080/",
          "height": 232
        },
        "id": "u-35lzBAgW-R",
        "outputId": "1b942dd1-0bb4-41d0-a896-547478945aed"
      },
      "execution_count": null,
      "outputs": [
        {
          "output_type": "display_data",
          "data": {
            "text/plain": [
              "\u001b[1mModel: \"variational_autoencoder_5\"\u001b[0m\n"
            ],
            "text/html": [
              "<pre style=\"white-space:pre;overflow-x:auto;line-height:normal;font-family:Menlo,'DejaVu Sans Mono',consolas,'Courier New',monospace\"><span style=\"font-weight: bold\">Model: \"variational_autoencoder_5\"</span>\n",
              "</pre>\n"
            ]
          },
          "metadata": {}
        },
        {
          "output_type": "display_data",
          "data": {
            "text/plain": [
              "┏━━━━━━━━━━━━━━━━━━━━━━━━━━━━━━━━━━━━━━┳━━━━━━━━━━━━━━━━━━━━━━━━━━━━━┳━━━━━━━━━━━━━━━━━┓\n",
              "┃\u001b[1m \u001b[0m\u001b[1mLayer (type)                        \u001b[0m\u001b[1m \u001b[0m┃\u001b[1m \u001b[0m\u001b[1mOutput Shape               \u001b[0m\u001b[1m \u001b[0m┃\u001b[1m \u001b[0m\u001b[1m        Param #\u001b[0m\u001b[1m \u001b[0m┃\n",
              "┡━━━━━━━━━━━━━━━━━━━━━━━━━━━━━━━━━━━━━━╇━━━━━━━━━━━━━━━━━━━━━━━━━━━━━╇━━━━━━━━━━━━━━━━━┩\n",
              "│ encoder_5 (\u001b[38;5;33mencoder\u001b[0m)                  │ ?                           │     \u001b[38;5;34m0\u001b[0m (unbuilt) │\n",
              "├──────────────────────────────────────┼─────────────────────────────┼─────────────────┤\n",
              "│ decoder_5 (\u001b[38;5;33mdecoder\u001b[0m)                  │ ?                           │     \u001b[38;5;34m0\u001b[0m (unbuilt) │\n",
              "├──────────────────────────────────────┼─────────────────────────────┼─────────────────┤\n",
              "│ gaussian_noise_5 (\u001b[38;5;33mGaussianNoise\u001b[0m)     │ ?                           │     \u001b[38;5;34m0\u001b[0m (unbuilt) │\n",
              "└──────────────────────────────────────┴─────────────────────────────┴─────────────────┘\n"
            ],
            "text/html": [
              "<pre style=\"white-space:pre;overflow-x:auto;line-height:normal;font-family:Menlo,'DejaVu Sans Mono',consolas,'Courier New',monospace\">┏━━━━━━━━━━━━━━━━━━━━━━━━━━━━━━━━━━━━━━┳━━━━━━━━━━━━━━━━━━━━━━━━━━━━━┳━━━━━━━━━━━━━━━━━┓\n",
              "┃<span style=\"font-weight: bold\"> Layer (type)                         </span>┃<span style=\"font-weight: bold\"> Output Shape                </span>┃<span style=\"font-weight: bold\">         Param # </span>┃\n",
              "┡━━━━━━━━━━━━━━━━━━━━━━━━━━━━━━━━━━━━━━╇━━━━━━━━━━━━━━━━━━━━━━━━━━━━━╇━━━━━━━━━━━━━━━━━┩\n",
              "│ encoder_5 (<span style=\"color: #0087ff; text-decoration-color: #0087ff\">encoder</span>)                  │ ?                           │     <span style=\"color: #00af00; text-decoration-color: #00af00\">0</span> (unbuilt) │\n",
              "├──────────────────────────────────────┼─────────────────────────────┼─────────────────┤\n",
              "│ decoder_5 (<span style=\"color: #0087ff; text-decoration-color: #0087ff\">decoder</span>)                  │ ?                           │     <span style=\"color: #00af00; text-decoration-color: #00af00\">0</span> (unbuilt) │\n",
              "├──────────────────────────────────────┼─────────────────────────────┼─────────────────┤\n",
              "│ gaussian_noise_5 (<span style=\"color: #0087ff; text-decoration-color: #0087ff\">GaussianNoise</span>)     │ ?                           │     <span style=\"color: #00af00; text-decoration-color: #00af00\">0</span> (unbuilt) │\n",
              "└──────────────────────────────────────┴─────────────────────────────┴─────────────────┘\n",
              "</pre>\n"
            ]
          },
          "metadata": {}
        },
        {
          "output_type": "display_data",
          "data": {
            "text/plain": [
              "\u001b[1m Total params: \u001b[0m\u001b[38;5;34m0\u001b[0m (0.00 B)\n"
            ],
            "text/html": [
              "<pre style=\"white-space:pre;overflow-x:auto;line-height:normal;font-family:Menlo,'DejaVu Sans Mono',consolas,'Courier New',monospace\"><span style=\"font-weight: bold\"> Total params: </span><span style=\"color: #00af00; text-decoration-color: #00af00\">0</span> (0.00 B)\n",
              "</pre>\n"
            ]
          },
          "metadata": {}
        },
        {
          "output_type": "display_data",
          "data": {
            "text/plain": [
              "\u001b[1m Trainable params: \u001b[0m\u001b[38;5;34m0\u001b[0m (0.00 B)\n"
            ],
            "text/html": [
              "<pre style=\"white-space:pre;overflow-x:auto;line-height:normal;font-family:Menlo,'DejaVu Sans Mono',consolas,'Courier New',monospace\"><span style=\"font-weight: bold\"> Trainable params: </span><span style=\"color: #00af00; text-decoration-color: #00af00\">0</span> (0.00 B)\n",
              "</pre>\n"
            ]
          },
          "metadata": {}
        },
        {
          "output_type": "display_data",
          "data": {
            "text/plain": [
              "\u001b[1m Non-trainable params: \u001b[0m\u001b[38;5;34m0\u001b[0m (0.00 B)\n"
            ],
            "text/html": [
              "<pre style=\"white-space:pre;overflow-x:auto;line-height:normal;font-family:Menlo,'DejaVu Sans Mono',consolas,'Courier New',monospace\"><span style=\"font-weight: bold\"> Non-trainable params: </span><span style=\"color: #00af00; text-decoration-color: #00af00\">0</span> (0.00 B)\n",
              "</pre>\n"
            ]
          },
          "metadata": {}
        }
      ]
    },
    {
      "cell_type": "code",
      "source": [
        "X, r = dataset[:,:-1], dataset[:,1:][:,::-1]\n",
        "Y = dataset[:,:-1][:,::-1]\n",
        "X, r, Y"
      ],
      "metadata": {
        "colab": {
          "base_uri": "https://localhost:8080/"
        },
        "id": "UqTgdfOskUIN",
        "outputId": "f7ac456a-1ff6-4761-c609-9e89500db89c"
      },
      "execution_count": null,
      "outputs": [
        {
          "output_type": "execute_result",
          "data": {
            "text/plain": [
              "(array([[34,  8, 40, ..., 23, 50,  4],\n",
              "        [18, 59, 39, ..., 30, 59, 23],\n",
              "        [48, 14, 35, ..., 31, 27, 59],\n",
              "        ...,\n",
              "        [ 4, 17, 19, ..., 43, 14, 29],\n",
              "        [20, 27, 47, ..., 27, 33, 39],\n",
              "        [11, 13, 49, ..., 36, 32, 45]]),\n",
              " array([[49,  4, 50, ..., 33, 40,  8],\n",
              "        [56, 23, 59, ..., 20, 39, 59],\n",
              "        [42, 59, 27, ..., 51, 35, 14],\n",
              "        ...,\n",
              "        [17, 29, 14, ..., 43, 19, 17],\n",
              "        [57, 39, 33, ..., 29, 47, 27],\n",
              "        [56, 45, 32, ..., 25, 49, 13]]),\n",
              " array([[ 4, 50, 23, ..., 40,  8, 34],\n",
              "        [23, 59, 30, ..., 39, 59, 18],\n",
              "        [59, 27, 31, ..., 35, 14, 48],\n",
              "        ...,\n",
              "        [29, 14, 43, ..., 19, 17,  4],\n",
              "        [39, 33, 27, ..., 47, 27, 20],\n",
              "        [45, 32, 36, ..., 49, 13, 11]]))"
            ]
          },
          "metadata": {},
          "execution_count": 55
        }
      ]
    },
    {
      "cell_type": "code",
      "source": [
        "test.fit([X, r],Y, epochs=15, batch_size=256)"
      ],
      "metadata": {
        "colab": {
          "base_uri": "https://localhost:8080/",
          "height": 722
        },
        "id": "ozh5Utzcgc0A",
        "outputId": "f22cdc29-f45f-496a-d300-473bf5ebc949"
      },
      "execution_count": null,
      "outputs": [
        {
          "output_type": "stream",
          "name": "stdout",
          "text": [
            "Epoch 1/15\n",
            "\u001b[1m782/782\u001b[0m \u001b[32m━━━━━━━━━━━━━━━━━━━━\u001b[0m\u001b[37m\u001b[0m \u001b[1m22s\u001b[0m 28ms/step - loss: 0.8475 - sparse_categorical_accuracy: 0.7019\n",
            "Epoch 2/15\n",
            "\u001b[1m782/782\u001b[0m \u001b[32m━━━━━━━━━━━━━━━━━━━━\u001b[0m\u001b[37m\u001b[0m \u001b[1m22s\u001b[0m 28ms/step - loss: 0.9099 - sparse_categorical_accuracy: 0.6908\n",
            "Epoch 3/15\n",
            "\u001b[1m782/782\u001b[0m \u001b[32m━━━━━━━━━━━━━━━━━━━━\u001b[0m\u001b[37m\u001b[0m \u001b[1m22s\u001b[0m 28ms/step - loss: 0.8064 - sparse_categorical_accuracy: 0.7149\n",
            "Epoch 4/15\n",
            "\u001b[1m782/782\u001b[0m \u001b[32m━━━━━━━━━━━━━━━━━━━━\u001b[0m\u001b[37m\u001b[0m \u001b[1m22s\u001b[0m 28ms/step - loss: 0.7660 - sparse_categorical_accuracy: 0.7266\n",
            "Epoch 5/15\n",
            "\u001b[1m782/782\u001b[0m \u001b[32m━━━━━━━━━━━━━━━━━━━━\u001b[0m\u001b[37m\u001b[0m \u001b[1m22s\u001b[0m 28ms/step - loss: 0.7387 - sparse_categorical_accuracy: 0.7356\n",
            "Epoch 6/15\n",
            "\u001b[1m782/782\u001b[0m \u001b[32m━━━━━━━━━━━━━━━━━━━━\u001b[0m\u001b[37m\u001b[0m \u001b[1m22s\u001b[0m 28ms/step - loss: 0.7204 - sparse_categorical_accuracy: 0.7409\n",
            "Epoch 7/15\n",
            "\u001b[1m782/782\u001b[0m \u001b[32m━━━━━━━━━━━━━━━━━━━━\u001b[0m\u001b[37m\u001b[0m \u001b[1m22s\u001b[0m 28ms/step - loss: 0.7025 - sparse_categorical_accuracy: 0.7463\n",
            "Epoch 8/15\n",
            "\u001b[1m782/782\u001b[0m \u001b[32m━━━━━━━━━━━━━━━━━━━━\u001b[0m\u001b[37m\u001b[0m \u001b[1m22s\u001b[0m 29ms/step - loss: 0.6797 - sparse_categorical_accuracy: 0.7535\n",
            "Epoch 9/15\n",
            "\u001b[1m782/782\u001b[0m \u001b[32m━━━━━━━━━━━━━━━━━━━━\u001b[0m\u001b[37m\u001b[0m \u001b[1m22s\u001b[0m 28ms/step - loss: 0.7632 - sparse_categorical_accuracy: 0.7353\n",
            "Epoch 10/15\n",
            "\u001b[1m782/782\u001b[0m \u001b[32m━━━━━━━━━━━━━━━━━━━━\u001b[0m\u001b[37m\u001b[0m \u001b[1m22s\u001b[0m 28ms/step - loss: 0.6983 - sparse_categorical_accuracy: 0.7533\n",
            "Epoch 11/15\n",
            "\u001b[1m782/782\u001b[0m \u001b[32m━━━━━━━━━━━━━━━━━━━━\u001b[0m\u001b[37m\u001b[0m \u001b[1m22s\u001b[0m 28ms/step - loss: 4.0949 - sparse_categorical_accuracy: 0.0166\n",
            "Epoch 12/15\n",
            "\u001b[1m185/782\u001b[0m \u001b[32m━━━━\u001b[0m\u001b[37m━━━━━━━━━━━━━━━━\u001b[0m \u001b[1m16s\u001b[0m 28ms/step - loss: 4.0950 - sparse_categorical_accuracy: 0.0165"
          ]
        },
        {
          "output_type": "error",
          "ename": "KeyboardInterrupt",
          "evalue": "",
          "traceback": [
            "\u001b[0;31m---------------------------------------------------------------------------\u001b[0m",
            "\u001b[0;31mKeyboardInterrupt\u001b[0m                         Traceback (most recent call last)",
            "\u001b[0;32m<ipython-input-57-e0c1e1783fd5>\u001b[0m in \u001b[0;36m<cell line: 1>\u001b[0;34m()\u001b[0m\n\u001b[0;32m----> 1\u001b[0;31m \u001b[0mtest\u001b[0m\u001b[0;34m.\u001b[0m\u001b[0mfit\u001b[0m\u001b[0;34m(\u001b[0m\u001b[0;34m[\u001b[0m\u001b[0mX\u001b[0m\u001b[0;34m,\u001b[0m \u001b[0mr\u001b[0m\u001b[0;34m]\u001b[0m\u001b[0;34m,\u001b[0m\u001b[0mY\u001b[0m\u001b[0;34m,\u001b[0m \u001b[0mepochs\u001b[0m\u001b[0;34m=\u001b[0m\u001b[0;36m15\u001b[0m\u001b[0;34m,\u001b[0m \u001b[0mbatch_size\u001b[0m\u001b[0;34m=\u001b[0m\u001b[0;36m256\u001b[0m\u001b[0;34m)\u001b[0m\u001b[0;34m\u001b[0m\u001b[0;34m\u001b[0m\u001b[0m\n\u001b[0m",
            "\u001b[0;32m/usr/local/lib/python3.10/dist-packages/keras/src/utils/traceback_utils.py\u001b[0m in \u001b[0;36merror_handler\u001b[0;34m(*args, **kwargs)\u001b[0m\n\u001b[1;32m    115\u001b[0m         \u001b[0mfiltered_tb\u001b[0m \u001b[0;34m=\u001b[0m \u001b[0;32mNone\u001b[0m\u001b[0;34m\u001b[0m\u001b[0;34m\u001b[0m\u001b[0m\n\u001b[1;32m    116\u001b[0m         \u001b[0;32mtry\u001b[0m\u001b[0;34m:\u001b[0m\u001b[0;34m\u001b[0m\u001b[0;34m\u001b[0m\u001b[0m\n\u001b[0;32m--> 117\u001b[0;31m             \u001b[0;32mreturn\u001b[0m \u001b[0mfn\u001b[0m\u001b[0;34m(\u001b[0m\u001b[0;34m*\u001b[0m\u001b[0margs\u001b[0m\u001b[0;34m,\u001b[0m \u001b[0;34m**\u001b[0m\u001b[0mkwargs\u001b[0m\u001b[0;34m)\u001b[0m\u001b[0;34m\u001b[0m\u001b[0;34m\u001b[0m\u001b[0m\n\u001b[0m\u001b[1;32m    118\u001b[0m         \u001b[0;32mexcept\u001b[0m \u001b[0mException\u001b[0m \u001b[0;32mas\u001b[0m \u001b[0me\u001b[0m\u001b[0;34m:\u001b[0m\u001b[0;34m\u001b[0m\u001b[0;34m\u001b[0m\u001b[0m\n\u001b[1;32m    119\u001b[0m             \u001b[0mfiltered_tb\u001b[0m \u001b[0;34m=\u001b[0m \u001b[0m_process_traceback_frames\u001b[0m\u001b[0;34m(\u001b[0m\u001b[0me\u001b[0m\u001b[0;34m.\u001b[0m\u001b[0m__traceback__\u001b[0m\u001b[0;34m)\u001b[0m\u001b[0;34m\u001b[0m\u001b[0;34m\u001b[0m\u001b[0m\n",
            "\u001b[0;32m/usr/local/lib/python3.10/dist-packages/keras/src/backend/tensorflow/trainer.py\u001b[0m in \u001b[0;36mfit\u001b[0;34m(self, x, y, batch_size, epochs, verbose, callbacks, validation_split, validation_data, shuffle, class_weight, sample_weight, initial_epoch, steps_per_epoch, validation_steps, validation_batch_size, validation_freq)\u001b[0m\n\u001b[1;32m    312\u001b[0m                 \u001b[0;32mfor\u001b[0m \u001b[0mstep\u001b[0m\u001b[0;34m,\u001b[0m \u001b[0miterator\u001b[0m \u001b[0;32min\u001b[0m \u001b[0mepoch_iterator\u001b[0m\u001b[0;34m.\u001b[0m\u001b[0menumerate_epoch\u001b[0m\u001b[0;34m(\u001b[0m\u001b[0;34m)\u001b[0m\u001b[0;34m:\u001b[0m\u001b[0;34m\u001b[0m\u001b[0;34m\u001b[0m\u001b[0m\n\u001b[1;32m    313\u001b[0m                     \u001b[0mcallbacks\u001b[0m\u001b[0;34m.\u001b[0m\u001b[0mon_train_batch_begin\u001b[0m\u001b[0;34m(\u001b[0m\u001b[0mstep\u001b[0m\u001b[0;34m)\u001b[0m\u001b[0;34m\u001b[0m\u001b[0;34m\u001b[0m\u001b[0m\n\u001b[0;32m--> 314\u001b[0;31m                     \u001b[0mlogs\u001b[0m \u001b[0;34m=\u001b[0m \u001b[0mself\u001b[0m\u001b[0;34m.\u001b[0m\u001b[0mtrain_function\u001b[0m\u001b[0;34m(\u001b[0m\u001b[0miterator\u001b[0m\u001b[0;34m)\u001b[0m\u001b[0;34m\u001b[0m\u001b[0;34m\u001b[0m\u001b[0m\n\u001b[0m\u001b[1;32m    315\u001b[0m                     \u001b[0mlogs\u001b[0m \u001b[0;34m=\u001b[0m \u001b[0mself\u001b[0m\u001b[0;34m.\u001b[0m\u001b[0m_pythonify_logs\u001b[0m\u001b[0;34m(\u001b[0m\u001b[0mlogs\u001b[0m\u001b[0;34m)\u001b[0m\u001b[0;34m\u001b[0m\u001b[0;34m\u001b[0m\u001b[0m\n\u001b[1;32m    316\u001b[0m                     \u001b[0mcallbacks\u001b[0m\u001b[0;34m.\u001b[0m\u001b[0mon_train_batch_end\u001b[0m\u001b[0;34m(\u001b[0m\u001b[0mstep\u001b[0m\u001b[0;34m,\u001b[0m \u001b[0mlogs\u001b[0m\u001b[0;34m)\u001b[0m\u001b[0;34m\u001b[0m\u001b[0;34m\u001b[0m\u001b[0m\n",
            "\u001b[0;32m/usr/local/lib/python3.10/dist-packages/tensorflow/python/util/traceback_utils.py\u001b[0m in \u001b[0;36merror_handler\u001b[0;34m(*args, **kwargs)\u001b[0m\n\u001b[1;32m    148\u001b[0m     \u001b[0mfiltered_tb\u001b[0m \u001b[0;34m=\u001b[0m \u001b[0;32mNone\u001b[0m\u001b[0;34m\u001b[0m\u001b[0;34m\u001b[0m\u001b[0m\n\u001b[1;32m    149\u001b[0m     \u001b[0;32mtry\u001b[0m\u001b[0;34m:\u001b[0m\u001b[0;34m\u001b[0m\u001b[0;34m\u001b[0m\u001b[0m\n\u001b[0;32m--> 150\u001b[0;31m       \u001b[0;32mreturn\u001b[0m \u001b[0mfn\u001b[0m\u001b[0;34m(\u001b[0m\u001b[0;34m*\u001b[0m\u001b[0margs\u001b[0m\u001b[0;34m,\u001b[0m \u001b[0;34m**\u001b[0m\u001b[0mkwargs\u001b[0m\u001b[0;34m)\u001b[0m\u001b[0;34m\u001b[0m\u001b[0;34m\u001b[0m\u001b[0m\n\u001b[0m\u001b[1;32m    151\u001b[0m     \u001b[0;32mexcept\u001b[0m \u001b[0mException\u001b[0m \u001b[0;32mas\u001b[0m \u001b[0me\u001b[0m\u001b[0;34m:\u001b[0m\u001b[0;34m\u001b[0m\u001b[0;34m\u001b[0m\u001b[0m\n\u001b[1;32m    152\u001b[0m       \u001b[0mfiltered_tb\u001b[0m \u001b[0;34m=\u001b[0m \u001b[0m_process_traceback_frames\u001b[0m\u001b[0;34m(\u001b[0m\u001b[0me\u001b[0m\u001b[0;34m.\u001b[0m\u001b[0m__traceback__\u001b[0m\u001b[0;34m)\u001b[0m\u001b[0;34m\u001b[0m\u001b[0;34m\u001b[0m\u001b[0m\n",
            "\u001b[0;32m/usr/local/lib/python3.10/dist-packages/tensorflow/python/eager/polymorphic_function/polymorphic_function.py\u001b[0m in \u001b[0;36m__call__\u001b[0;34m(self, *args, **kwds)\u001b[0m\n\u001b[1;32m    831\u001b[0m \u001b[0;34m\u001b[0m\u001b[0m\n\u001b[1;32m    832\u001b[0m       \u001b[0;32mwith\u001b[0m \u001b[0mOptionalXlaContext\u001b[0m\u001b[0;34m(\u001b[0m\u001b[0mself\u001b[0m\u001b[0;34m.\u001b[0m\u001b[0m_jit_compile\u001b[0m\u001b[0;34m)\u001b[0m\u001b[0;34m:\u001b[0m\u001b[0;34m\u001b[0m\u001b[0;34m\u001b[0m\u001b[0m\n\u001b[0;32m--> 833\u001b[0;31m         \u001b[0mresult\u001b[0m \u001b[0;34m=\u001b[0m \u001b[0mself\u001b[0m\u001b[0;34m.\u001b[0m\u001b[0m_call\u001b[0m\u001b[0;34m(\u001b[0m\u001b[0;34m*\u001b[0m\u001b[0margs\u001b[0m\u001b[0;34m,\u001b[0m \u001b[0;34m**\u001b[0m\u001b[0mkwds\u001b[0m\u001b[0;34m)\u001b[0m\u001b[0;34m\u001b[0m\u001b[0;34m\u001b[0m\u001b[0m\n\u001b[0m\u001b[1;32m    834\u001b[0m \u001b[0;34m\u001b[0m\u001b[0m\n\u001b[1;32m    835\u001b[0m       \u001b[0mnew_tracing_count\u001b[0m \u001b[0;34m=\u001b[0m \u001b[0mself\u001b[0m\u001b[0;34m.\u001b[0m\u001b[0mexperimental_get_tracing_count\u001b[0m\u001b[0;34m(\u001b[0m\u001b[0;34m)\u001b[0m\u001b[0;34m\u001b[0m\u001b[0;34m\u001b[0m\u001b[0m\n",
            "\u001b[0;32m/usr/local/lib/python3.10/dist-packages/tensorflow/python/eager/polymorphic_function/polymorphic_function.py\u001b[0m in \u001b[0;36m_call\u001b[0;34m(self, *args, **kwds)\u001b[0m\n\u001b[1;32m    876\u001b[0m       \u001b[0;31m# In this case we have not created variables on the first call. So we can\u001b[0m\u001b[0;34m\u001b[0m\u001b[0;34m\u001b[0m\u001b[0m\n\u001b[1;32m    877\u001b[0m       \u001b[0;31m# run the first trace but we should fail if variables are created.\u001b[0m\u001b[0;34m\u001b[0m\u001b[0;34m\u001b[0m\u001b[0m\n\u001b[0;32m--> 878\u001b[0;31m       results = tracing_compilation.call_function(\n\u001b[0m\u001b[1;32m    879\u001b[0m           \u001b[0margs\u001b[0m\u001b[0;34m,\u001b[0m \u001b[0mkwds\u001b[0m\u001b[0;34m,\u001b[0m \u001b[0mself\u001b[0m\u001b[0;34m.\u001b[0m\u001b[0m_variable_creation_config\u001b[0m\u001b[0;34m\u001b[0m\u001b[0;34m\u001b[0m\u001b[0m\n\u001b[1;32m    880\u001b[0m       )\n",
            "\u001b[0;32m/usr/local/lib/python3.10/dist-packages/tensorflow/python/eager/polymorphic_function/tracing_compilation.py\u001b[0m in \u001b[0;36mcall_function\u001b[0;34m(args, kwargs, tracing_options)\u001b[0m\n\u001b[1;32m    137\u001b[0m   \u001b[0mbound_args\u001b[0m \u001b[0;34m=\u001b[0m \u001b[0mfunction\u001b[0m\u001b[0;34m.\u001b[0m\u001b[0mfunction_type\u001b[0m\u001b[0;34m.\u001b[0m\u001b[0mbind\u001b[0m\u001b[0;34m(\u001b[0m\u001b[0;34m*\u001b[0m\u001b[0margs\u001b[0m\u001b[0;34m,\u001b[0m \u001b[0;34m**\u001b[0m\u001b[0mkwargs\u001b[0m\u001b[0;34m)\u001b[0m\u001b[0;34m\u001b[0m\u001b[0;34m\u001b[0m\u001b[0m\n\u001b[1;32m    138\u001b[0m   \u001b[0mflat_inputs\u001b[0m \u001b[0;34m=\u001b[0m \u001b[0mfunction\u001b[0m\u001b[0;34m.\u001b[0m\u001b[0mfunction_type\u001b[0m\u001b[0;34m.\u001b[0m\u001b[0munpack_inputs\u001b[0m\u001b[0;34m(\u001b[0m\u001b[0mbound_args\u001b[0m\u001b[0;34m)\u001b[0m\u001b[0;34m\u001b[0m\u001b[0;34m\u001b[0m\u001b[0m\n\u001b[0;32m--> 139\u001b[0;31m   return function._call_flat(  # pylint: disable=protected-access\n\u001b[0m\u001b[1;32m    140\u001b[0m       \u001b[0mflat_inputs\u001b[0m\u001b[0;34m,\u001b[0m \u001b[0mcaptured_inputs\u001b[0m\u001b[0;34m=\u001b[0m\u001b[0mfunction\u001b[0m\u001b[0;34m.\u001b[0m\u001b[0mcaptured_inputs\u001b[0m\u001b[0;34m\u001b[0m\u001b[0;34m\u001b[0m\u001b[0m\n\u001b[1;32m    141\u001b[0m   )\n",
            "\u001b[0;32m/usr/local/lib/python3.10/dist-packages/tensorflow/python/eager/polymorphic_function/concrete_function.py\u001b[0m in \u001b[0;36m_call_flat\u001b[0;34m(self, tensor_inputs, captured_inputs)\u001b[0m\n\u001b[1;32m   1320\u001b[0m         and executing_eagerly):\n\u001b[1;32m   1321\u001b[0m       \u001b[0;31m# No tape is watching; skip to running the function.\u001b[0m\u001b[0;34m\u001b[0m\u001b[0;34m\u001b[0m\u001b[0m\n\u001b[0;32m-> 1322\u001b[0;31m       \u001b[0;32mreturn\u001b[0m \u001b[0mself\u001b[0m\u001b[0;34m.\u001b[0m\u001b[0m_inference_function\u001b[0m\u001b[0;34m.\u001b[0m\u001b[0mcall_preflattened\u001b[0m\u001b[0;34m(\u001b[0m\u001b[0margs\u001b[0m\u001b[0;34m)\u001b[0m\u001b[0;34m\u001b[0m\u001b[0;34m\u001b[0m\u001b[0m\n\u001b[0m\u001b[1;32m   1323\u001b[0m     forward_backward = self._select_forward_and_backward_functions(\n\u001b[1;32m   1324\u001b[0m         \u001b[0margs\u001b[0m\u001b[0;34m,\u001b[0m\u001b[0;34m\u001b[0m\u001b[0;34m\u001b[0m\u001b[0m\n",
            "\u001b[0;32m/usr/local/lib/python3.10/dist-packages/tensorflow/python/eager/polymorphic_function/atomic_function.py\u001b[0m in \u001b[0;36mcall_preflattened\u001b[0;34m(self, args)\u001b[0m\n\u001b[1;32m    214\u001b[0m   \u001b[0;32mdef\u001b[0m \u001b[0mcall_preflattened\u001b[0m\u001b[0;34m(\u001b[0m\u001b[0mself\u001b[0m\u001b[0;34m,\u001b[0m \u001b[0margs\u001b[0m\u001b[0;34m:\u001b[0m \u001b[0mSequence\u001b[0m\u001b[0;34m[\u001b[0m\u001b[0mcore\u001b[0m\u001b[0;34m.\u001b[0m\u001b[0mTensor\u001b[0m\u001b[0;34m]\u001b[0m\u001b[0;34m)\u001b[0m \u001b[0;34m->\u001b[0m \u001b[0mAny\u001b[0m\u001b[0;34m:\u001b[0m\u001b[0;34m\u001b[0m\u001b[0;34m\u001b[0m\u001b[0m\n\u001b[1;32m    215\u001b[0m     \u001b[0;34m\"\"\"Calls with flattened tensor inputs and returns the structured output.\"\"\"\u001b[0m\u001b[0;34m\u001b[0m\u001b[0;34m\u001b[0m\u001b[0m\n\u001b[0;32m--> 216\u001b[0;31m     \u001b[0mflat_outputs\u001b[0m \u001b[0;34m=\u001b[0m \u001b[0mself\u001b[0m\u001b[0;34m.\u001b[0m\u001b[0mcall_flat\u001b[0m\u001b[0;34m(\u001b[0m\u001b[0;34m*\u001b[0m\u001b[0margs\u001b[0m\u001b[0;34m)\u001b[0m\u001b[0;34m\u001b[0m\u001b[0;34m\u001b[0m\u001b[0m\n\u001b[0m\u001b[1;32m    217\u001b[0m     \u001b[0;32mreturn\u001b[0m \u001b[0mself\u001b[0m\u001b[0;34m.\u001b[0m\u001b[0mfunction_type\u001b[0m\u001b[0;34m.\u001b[0m\u001b[0mpack_output\u001b[0m\u001b[0;34m(\u001b[0m\u001b[0mflat_outputs\u001b[0m\u001b[0;34m)\u001b[0m\u001b[0;34m\u001b[0m\u001b[0;34m\u001b[0m\u001b[0m\n\u001b[1;32m    218\u001b[0m \u001b[0;34m\u001b[0m\u001b[0m\n",
            "\u001b[0;32m/usr/local/lib/python3.10/dist-packages/tensorflow/python/eager/polymorphic_function/atomic_function.py\u001b[0m in \u001b[0;36mcall_flat\u001b[0;34m(self, *args)\u001b[0m\n\u001b[1;32m    249\u001b[0m         \u001b[0;32mwith\u001b[0m \u001b[0mrecord\u001b[0m\u001b[0;34m.\u001b[0m\u001b[0mstop_recording\u001b[0m\u001b[0;34m(\u001b[0m\u001b[0;34m)\u001b[0m\u001b[0;34m:\u001b[0m\u001b[0;34m\u001b[0m\u001b[0;34m\u001b[0m\u001b[0m\n\u001b[1;32m    250\u001b[0m           \u001b[0;32mif\u001b[0m \u001b[0mself\u001b[0m\u001b[0;34m.\u001b[0m\u001b[0m_bound_context\u001b[0m\u001b[0;34m.\u001b[0m\u001b[0mexecuting_eagerly\u001b[0m\u001b[0;34m(\u001b[0m\u001b[0;34m)\u001b[0m\u001b[0;34m:\u001b[0m\u001b[0;34m\u001b[0m\u001b[0;34m\u001b[0m\u001b[0m\n\u001b[0;32m--> 251\u001b[0;31m             outputs = self._bound_context.call_function(\n\u001b[0m\u001b[1;32m    252\u001b[0m                 \u001b[0mself\u001b[0m\u001b[0;34m.\u001b[0m\u001b[0mname\u001b[0m\u001b[0;34m,\u001b[0m\u001b[0;34m\u001b[0m\u001b[0;34m\u001b[0m\u001b[0m\n\u001b[1;32m    253\u001b[0m                 \u001b[0mlist\u001b[0m\u001b[0;34m(\u001b[0m\u001b[0margs\u001b[0m\u001b[0;34m)\u001b[0m\u001b[0;34m,\u001b[0m\u001b[0;34m\u001b[0m\u001b[0;34m\u001b[0m\u001b[0m\n",
            "\u001b[0;32m/usr/local/lib/python3.10/dist-packages/tensorflow/python/eager/context.py\u001b[0m in \u001b[0;36mcall_function\u001b[0;34m(self, name, tensor_inputs, num_outputs)\u001b[0m\n\u001b[1;32m   1498\u001b[0m     \u001b[0mcancellation_context\u001b[0m \u001b[0;34m=\u001b[0m \u001b[0mcancellation\u001b[0m\u001b[0;34m.\u001b[0m\u001b[0mcontext\u001b[0m\u001b[0;34m(\u001b[0m\u001b[0;34m)\u001b[0m\u001b[0;34m\u001b[0m\u001b[0;34m\u001b[0m\u001b[0m\n\u001b[1;32m   1499\u001b[0m     \u001b[0;32mif\u001b[0m \u001b[0mcancellation_context\u001b[0m \u001b[0;32mis\u001b[0m \u001b[0;32mNone\u001b[0m\u001b[0;34m:\u001b[0m\u001b[0;34m\u001b[0m\u001b[0;34m\u001b[0m\u001b[0m\n\u001b[0;32m-> 1500\u001b[0;31m       outputs = execute.execute(\n\u001b[0m\u001b[1;32m   1501\u001b[0m           \u001b[0mname\u001b[0m\u001b[0;34m.\u001b[0m\u001b[0mdecode\u001b[0m\u001b[0;34m(\u001b[0m\u001b[0;34m\"utf-8\"\u001b[0m\u001b[0;34m)\u001b[0m\u001b[0;34m,\u001b[0m\u001b[0;34m\u001b[0m\u001b[0;34m\u001b[0m\u001b[0m\n\u001b[1;32m   1502\u001b[0m           \u001b[0mnum_outputs\u001b[0m\u001b[0;34m=\u001b[0m\u001b[0mnum_outputs\u001b[0m\u001b[0;34m,\u001b[0m\u001b[0;34m\u001b[0m\u001b[0;34m\u001b[0m\u001b[0m\n",
            "\u001b[0;32m/usr/local/lib/python3.10/dist-packages/tensorflow/python/eager/execute.py\u001b[0m in \u001b[0;36mquick_execute\u001b[0;34m(op_name, num_outputs, inputs, attrs, ctx, name)\u001b[0m\n\u001b[1;32m     51\u001b[0m   \u001b[0;32mtry\u001b[0m\u001b[0;34m:\u001b[0m\u001b[0;34m\u001b[0m\u001b[0;34m\u001b[0m\u001b[0m\n\u001b[1;32m     52\u001b[0m     \u001b[0mctx\u001b[0m\u001b[0;34m.\u001b[0m\u001b[0mensure_initialized\u001b[0m\u001b[0;34m(\u001b[0m\u001b[0;34m)\u001b[0m\u001b[0;34m\u001b[0m\u001b[0;34m\u001b[0m\u001b[0m\n\u001b[0;32m---> 53\u001b[0;31m     tensors = pywrap_tfe.TFE_Py_Execute(ctx._handle, device_name, op_name,\n\u001b[0m\u001b[1;32m     54\u001b[0m                                         inputs, attrs, num_outputs)\n\u001b[1;32m     55\u001b[0m   \u001b[0;32mexcept\u001b[0m \u001b[0mcore\u001b[0m\u001b[0;34m.\u001b[0m\u001b[0m_NotOkStatusException\u001b[0m \u001b[0;32mas\u001b[0m \u001b[0me\u001b[0m\u001b[0;34m:\u001b[0m\u001b[0;34m\u001b[0m\u001b[0;34m\u001b[0m\u001b[0m\n",
            "\u001b[0;31mKeyboardInterrupt\u001b[0m: "
          ]
        }
      ]
    },
    {
      "cell_type": "code",
      "source": [
        "def batch_generator(data, batch_size=32):\n",
        "    \"\"\"Yield successive batches from data.\"\"\"\n",
        "    for i in range(0, len(data), batch_size):\n",
        "        yield data[i:i + batch_size]\n",
        "\n",
        "def process_dataset_in_batches(dataset, batch_size=32):\n",
        "    results = []\n",
        "    for batch in tqdm(batch_generator(dataset, batch_size)):\n",
        "        batch_result = test.encoder(batch)[:,-1]\n",
        "        results.append(batch_result)  # Assuming test returns a result you want to store\n",
        "    return results\n"
      ],
      "metadata": {
        "id": "Z2_0SkDom9iR"
      },
      "execution_count": null,
      "outputs": []
    },
    {
      "cell_type": "code",
      "source": [
        "def variational_batch_generator(data, batch_size=32):\n",
        "    \"\"\"Yield successive batches from data.\"\"\"\n",
        "    for i in range(0, len(data), batch_size):\n",
        "        yield data[i:i + batch_size]\n",
        "\n",
        "def process_dataset_in_batches(dataset, batch_size=32):\n",
        "    results = []\n",
        "    for batch in tqdm(variational_batch_generator(dataset, batch_size)):\n",
        "        mu, log_var = test.encoder(batch)\n",
        "        results.append(mu[:,-1])  # Assuming test returns a result you want to store\n",
        "    return results"
      ],
      "metadata": {
        "id": "dq3PYxaxw5BC"
      },
      "execution_count": null,
      "outputs": []
    },
    {
      "cell_type": "code",
      "source": [
        "encoded_random = process_dataset_in_batches(dataset, batch_size=256)"
      ],
      "metadata": {
        "colab": {
          "base_uri": "https://localhost:8080/",
          "height": 49,
          "referenced_widgets": [
            "1b103a0a829047e8b20dcaaa1c941c16",
            "2f31905baa214b6c89ee933a8f65ae65",
            "aaddc229cbfc4a53a29f8e3bb4ebb6e4",
            "04e44a0097e548a5978c2ab142e78ea2",
            "3c2cbbaef61d4cc18cf1bb0995d4d2a4",
            "a37f5940e9f54bcaae1e6660117cebcc",
            "aefd2ea4f55a4c45a55d78d0f0e83fd1",
            "74686caf48ef4a009a617b13753ebd99",
            "af706339390d4322abef619d66d9a537",
            "aea8596a75244b9bb8064ea7bf183f47",
            "53d2ec634f9f41709eaf39c05284cf7f"
          ]
        },
        "id": "zdZtTqennAtI",
        "outputId": "f36a7c4f-cadf-4fbb-e10f-969d5ae8bb5f"
      },
      "execution_count": null,
      "outputs": [
        {
          "output_type": "display_data",
          "data": {
            "text/plain": [
              "0it [00:00, ?it/s]"
            ],
            "application/vnd.jupyter.widget-view+json": {
              "version_major": 2,
              "version_minor": 0,
              "model_id": "1b103a0a829047e8b20dcaaa1c941c16"
            }
          },
          "metadata": {}
        }
      ]
    },
    {
      "cell_type": "code",
      "source": [
        "encoded_dataset = np.concatenate(encoded_random)"
      ],
      "metadata": {
        "id": "B6jVFCrdoREU"
      },
      "execution_count": null,
      "outputs": []
    },
    {
      "cell_type": "code",
      "source": [
        "encoded_dataset.shape"
      ],
      "metadata": {
        "colab": {
          "base_uri": "https://localhost:8080/"
        },
        "id": "CxOkC2qXpxrW",
        "outputId": "4572b3a9-cd9e-4b71-970f-bb906bb7266e"
      },
      "execution_count": null,
      "outputs": [
        {
          "output_type": "execute_result",
          "data": {
            "text/plain": [
              "(200000, 64)"
            ]
          },
          "metadata": {},
          "execution_count": 120
        }
      ]
    },
    {
      "cell_type": "code",
      "source": [
        "dataset[:1]"
      ],
      "metadata": {
        "colab": {
          "base_uri": "https://localhost:8080/"
        },
        "id": "PXetf9L3p_To",
        "outputId": "3e770b06-265f-45fa-9909-8fb23b0468da"
      },
      "execution_count": null,
      "outputs": [
        {
          "output_type": "execute_result",
          "data": {
            "text/plain": [
              "array([[0, 5, 9, 1, 9, 3, 2, 8, 1, 2, 4, 6, 6, 1, 0, 2, 4, 1, 4, 4, 2, 6,\n",
              "        6, 4, 2, 6, 4, 7, 7, 9, 1, 1, 7, 7, 2, 9, 9, 7, 6, 2, 7, 7, 1, 4,\n",
              "        7, 1, 1, 1, 8, 3, 9, 9, 5, 4, 2, 9, 3, 7, 9, 3, 3, 2, 9, 5, 1, 1,\n",
              "        5, 9, 9, 8, 6, 0, 3, 6, 3, 9, 0, 7, 8, 3, 7, 3, 5, 7, 1, 5, 4, 3,\n",
              "        9, 9, 4, 0, 7, 1, 3, 6, 4, 4, 3, 2, 8, 4, 7, 5, 1, 3, 2, 5, 1, 3,\n",
              "        4, 5, 4, 1, 2, 6, 4, 4, 7, 1, 9, 7, 6, 6, 7, 4, 1, 3]])"
            ]
          },
          "metadata": {},
          "execution_count": 121
        }
      ]
    },
    {
      "cell_type": "code",
      "source": [
        "test.encoder(dataset[:1]).numpy()[0].shape"
      ],
      "metadata": {
        "colab": {
          "base_uri": "https://localhost:8080/",
          "height": 144
        },
        "id": "--BBRrlSqbTY",
        "outputId": "89743dd8-4754-4243-b187-636b0a0b67bf"
      },
      "execution_count": null,
      "outputs": [
        {
          "output_type": "error",
          "ename": "AttributeError",
          "evalue": "'tuple' object has no attribute 'numpy'",
          "traceback": [
            "\u001b[0;31m---------------------------------------------------------------------------\u001b[0m",
            "\u001b[0;31mAttributeError\u001b[0m                            Traceback (most recent call last)",
            "\u001b[0;32m<ipython-input-196-717a97dae99c>\u001b[0m in \u001b[0;36m<cell line: 1>\u001b[0;34m()\u001b[0m\n\u001b[0;32m----> 1\u001b[0;31m \u001b[0mtest\u001b[0m\u001b[0;34m.\u001b[0m\u001b[0mencoder\u001b[0m\u001b[0;34m(\u001b[0m\u001b[0mdataset\u001b[0m\u001b[0;34m[\u001b[0m\u001b[0;34m:\u001b[0m\u001b[0;36m1\u001b[0m\u001b[0;34m]\u001b[0m\u001b[0;34m)\u001b[0m\u001b[0;34m.\u001b[0m\u001b[0mnumpy\u001b[0m\u001b[0;34m(\u001b[0m\u001b[0;34m)\u001b[0m\u001b[0;34m[\u001b[0m\u001b[0;36m0\u001b[0m\u001b[0;34m]\u001b[0m\u001b[0;34m.\u001b[0m\u001b[0mshape\u001b[0m\u001b[0;34m\u001b[0m\u001b[0;34m\u001b[0m\u001b[0m\n\u001b[0m",
            "\u001b[0;31mAttributeError\u001b[0m: 'tuple' object has no attribute 'numpy'"
          ]
        }
      ]
    },
    {
      "cell_type": "code",
      "source": [
        "test.encoder(dataset[:1]).numpy()[0][:1].shape"
      ],
      "metadata": {
        "colab": {
          "base_uri": "https://localhost:8080/",
          "height": 144
        },
        "id": "mdIT_VSwtMJ0",
        "outputId": "a1f2598d-c13d-478e-aa8a-1d14c9353013"
      },
      "execution_count": null,
      "outputs": [
        {
          "output_type": "error",
          "ename": "AttributeError",
          "evalue": "'tuple' object has no attribute 'numpy'",
          "traceback": [
            "\u001b[0;31m---------------------------------------------------------------------------\u001b[0m",
            "\u001b[0;31mAttributeError\u001b[0m                            Traceback (most recent call last)",
            "\u001b[0;32m<ipython-input-198-fbc7cfd28dd2>\u001b[0m in \u001b[0;36m<cell line: 1>\u001b[0;34m()\u001b[0m\n\u001b[0;32m----> 1\u001b[0;31m \u001b[0mtest\u001b[0m\u001b[0;34m.\u001b[0m\u001b[0mencoder\u001b[0m\u001b[0;34m(\u001b[0m\u001b[0mdataset\u001b[0m\u001b[0;34m[\u001b[0m\u001b[0;34m:\u001b[0m\u001b[0;36m1\u001b[0m\u001b[0;34m]\u001b[0m\u001b[0;34m)\u001b[0m\u001b[0;34m.\u001b[0m\u001b[0mnumpy\u001b[0m\u001b[0;34m(\u001b[0m\u001b[0;34m)\u001b[0m\u001b[0;34m[\u001b[0m\u001b[0;36m0\u001b[0m\u001b[0;34m]\u001b[0m\u001b[0;34m[\u001b[0m\u001b[0;34m:\u001b[0m\u001b[0;36m1\u001b[0m\u001b[0;34m]\u001b[0m\u001b[0;34m.\u001b[0m\u001b[0mshape\u001b[0m\u001b[0;34m\u001b[0m\u001b[0;34m\u001b[0m\u001b[0m\n\u001b[0m",
            "\u001b[0;31mAttributeError\u001b[0m: 'tuple' object has no attribute 'numpy'"
          ]
        }
      ]
    },
    {
      "cell_type": "code",
      "source": [
        "#standard\n",
        "cosine_similarity(encoded_dataset, test.encoder(dataset[:1]).numpy()[0][:1])"
      ],
      "metadata": {
        "colab": {
          "base_uri": "https://localhost:8080/"
        },
        "id": "Z2-_cPAlp4vs",
        "outputId": "856c6e29-acb8-4972-a3cf-c02c129df6d7"
      },
      "execution_count": null,
      "outputs": [
        {
          "output_type": "execute_result",
          "data": {
            "text/plain": [
              "array([[0.9933582 , 0.9982489 , 0.99100465, ..., 0.99282444, 0.9992464 ,\n",
              "        0.9966526 ]], dtype=float32)"
            ]
          },
          "metadata": {},
          "execution_count": 121
        }
      ]
    },
    {
      "cell_type": "code",
      "source": [
        "#variational\n",
        "cosine_similarity(encoded_dataset, test.encoder(dataset[:1])[0].numpy()[0][:1])"
      ],
      "metadata": {
        "colab": {
          "base_uri": "https://localhost:8080/"
        },
        "id": "5LNdPP7CxHk-",
        "outputId": "203b71e3-91c7-44e7-e4b6-208a6af9e670"
      },
      "execution_count": null,
      "outputs": [
        {
          "output_type": "execute_result",
          "data": {
            "text/plain": [
              "array([[-0.299131  , -0.30019236, -0.28717577, ..., -0.29244596,\n",
              "        -0.30316904, -0.2980219 ]], dtype=float32)"
            ]
          },
          "metadata": {},
          "execution_count": 173
        }
      ]
    },
    {
      "cell_type": "code",
      "source": [
        "test.encoder(dataset[:1])[0].numpy()[0][:1]"
      ],
      "metadata": {
        "colab": {
          "base_uri": "https://localhost:8080/"
        },
        "id": "EYVptFvCyAT0",
        "outputId": "e747dd15-0d3c-4728-f338-5538a55f852f"
      },
      "execution_count": null,
      "outputs": [
        {
          "output_type": "execute_result",
          "data": {
            "text/plain": [
              "array([[-0.56152165, -0.31187817, -0.2352069 ,  0.31379724, -0.37521297,\n",
              "         0.08750982, -0.01630868, -0.00918099, -0.1290042 , -0.15821111,\n",
              "         0.16987927, -0.27078936]], dtype=float32)"
            ]
          },
          "metadata": {},
          "execution_count": 199
        }
      ]
    },
    {
      "cell_type": "code",
      "source": [
        "mu, logvar = test.encoder(dataset[:1])\n",
        "mu[:,-1].numpy(), encoded_dataset[0]"
      ],
      "metadata": {
        "colab": {
          "base_uri": "https://localhost:8080/"
        },
        "id": "Cf6KqiEAyCFZ",
        "outputId": "df45c62d-78c0-443e-f224-77bc31a4a10c"
      },
      "execution_count": null,
      "outputs": [
        {
          "output_type": "execute_result",
          "data": {
            "text/plain": [
              "(array([[-0.6732223 ,  0.15384024, -0.20908722,  0.3677882 , -0.44656312,\n",
              "         -0.06462955,  0.8685175 , -0.8702315 ,  1.5701028 , -1.0755367 ]],\n",
              "       dtype=float32),\n",
              " array([-0.0642693 , -0.06830266, -0.05444307, -0.21569277,  0.08266039,\n",
              "        -0.03889571, -0.22032014, -0.00925068, -0.06970701,  0.09249613],\n",
              "       dtype=float32))"
            ]
          },
          "metadata": {},
          "execution_count": 268
        }
      ]
    },
    {
      "cell_type": "code",
      "source": [
        "mu, logvar = test.encoder(dataset[:5])\n",
        "mu[:,-1].numpy(), encoded_dataset[0]"
      ],
      "metadata": {
        "colab": {
          "base_uri": "https://localhost:8080/"
        },
        "id": "zbJQS2ao1qYF",
        "outputId": "b3932ea2-9f8c-4287-ead0-d9ad83ecd767"
      },
      "execution_count": null,
      "outputs": [
        {
          "output_type": "execute_result",
          "data": {
            "text/plain": [
              "(array([[ 14.000153  ,  22.564453  ,   9.938414  , -17.838158  ,\n",
              "         -17.656164  ,  -1.7171293 ,  -5.334197  ,  11.955042  ,\n",
              "          -4.844222  , -28.871881  ,  -3.7983043 , -27.428596  ,\n",
              "         -42.83172   , -35.35509   ,  -6.59913   , -31.313318  ,\n",
              "          21.265232  ,  38.83196   ,  24.015228  ,  -7.887314  ,\n",
              "           9.28762   , -12.368584  ,   7.491013  , -15.162469  ,\n",
              "          17.93661   , -64.239136  , -21.058928  ,  26.17323   ,\n",
              "          13.267758  ,  32.06291   , -14.079383  ,  16.827522  ,\n",
              "          18.240433  ,   9.05435   ,  -0.6619456 ,  15.804437  ,\n",
              "         -28.968403  ,  23.2225    ,   2.311416  ,   9.959227  ,\n",
              "           6.7319345 ,  -7.882095  ,  -1.2725788 , -26.274485  ,\n",
              "         -24.283525  , -14.538496  ,  15.738651  ,  10.090743  ,\n",
              "          14.667789  ,  26.610678  ,  20.313189  ,  -4.9169374 ,\n",
              "         -31.161385  ,  31.092047  , -13.889997  , -27.976658  ,\n",
              "         -29.30839   ,   8.538071  , -34.661953  ,  19.495655  ,\n",
              "         -14.769328  ,  26.592323  ,  21.217016  ,  35.531662  ,\n",
              "         -29.467459  , -10.21039   , -20.079527  ,  32.083447  ,\n",
              "          -4.9824634 , -11.759202  ,   5.475335  , -14.735488  ,\n",
              "          27.366884  ,  -6.8906174 ,  -8.2371025 , -10.387344  ,\n",
              "         -18.230587  ,  18.560139  ,  10.782117  ,   0.8494216 ,\n",
              "          -0.9789666 ,  -8.126858  ,  -2.6229005 ,  -1.2561529 ,\n",
              "          24.0927    ,  10.192368  ,  23.876007  , -40.00101   ,\n",
              "          -1.9712313 , -42.841347  ,  21.340107  ,  20.520155  ,\n",
              "          12.363204  , -26.343092  ,  30.236492  ,   7.3267426 ,\n",
              "          29.1851    ,  -7.355666  ,  29.598225  , -10.452372  ,\n",
              "          13.601862  , -13.346871  , -18.567427  , -13.781276  ,\n",
              "          41.342773  ,  -2.2940729 ,  30.382854  ,   7.0740595 ,\n",
              "          10.688435  ,  29.171883  ,  18.006979  , -14.280999  ,\n",
              "         -14.032088  ,  -5.2670054 ,   8.344233  , -20.880009  ,\n",
              "          -1.7678843 ,  12.512384  ,  26.998917  , -40.92889   ,\n",
              "           9.719419  ,  14.611883  , -14.034502  , -21.307724  ,\n",
              "         -12.522641  ,  27.158361  ,  10.822528  , -28.828966  ,\n",
              "         -15.248116  ,  18.839077  , -21.55089   ,   7.8761706 ,\n",
              "          21.956861  ,  15.730051  ,   6.5698175 ,  29.929255  ,\n",
              "          -5.120919  , -26.49605   ,   8.250232  ,   0.9772582 ,\n",
              "           3.5392728 ,  13.382184  ,  38.659878  ,  18.914032  ,\n",
              "         -11.87749   ,   6.4320664 ,  -4.3408957 ,   0.10569816,\n",
              "          30.246243  ,  14.993012  ],\n",
              "        [ 13.860481  ,  22.371101  ,  10.288267  , -17.225807  ,\n",
              "         -17.639357  ,  -1.5103905 ,  -5.355108  ,  12.357094  ,\n",
              "          -5.053534  , -28.747671  ,  -3.9315588 , -27.31642   ,\n",
              "         -42.64159   , -35.459774  ,  -6.6764946 , -31.07552   ,\n",
              "          20.822765  ,  38.737648  ,  24.122065  ,  -8.059681  ,\n",
              "           9.156173  , -12.527231  ,   7.1961527 , -14.942369  ,\n",
              "          17.868933  , -64.09034   , -20.914583  ,  26.17669   ,\n",
              "          13.252393  ,  32.156498  , -14.015078  ,  16.57873   ,\n",
              "          18.355215  ,   9.085072  ,  -0.76355255,  16.286814  ,\n",
              "         -29.26124   ,  23.636694  ,   1.9496273 ,   9.6090555 ,\n",
              "           6.748813  ,  -7.9232416 ,  -1.0155697 , -26.031473  ,\n",
              "         -23.672075  , -14.30643   ,  15.244599  ,  10.107766  ,\n",
              "          14.698027  ,  26.374352  ,  20.111267  ,  -4.7061167 ,\n",
              "         -31.026142  ,  30.783432  , -14.031095  , -27.878906  ,\n",
              "         -29.49127   ,   8.456227  , -34.430847  ,  19.67353   ,\n",
              "         -14.722038  ,  26.302336  ,  20.99461   ,  35.12954   ,\n",
              "         -29.359968  , -10.2213    , -20.104683  ,  32.284344  ,\n",
              "          -4.9660215 , -11.805046  ,   5.536122  , -14.860912  ,\n",
              "          27.14668   ,  -6.6705794 ,  -8.049122  , -10.063258  ,\n",
              "         -18.072557  ,  18.994646  ,  10.822761  ,   1.143137  ,\n",
              "          -0.90056175,  -7.7636642 ,  -2.3975186 ,  -1.5067    ,\n",
              "          23.953442  ,  10.370866  ,  23.957489  , -40.06169   ,\n",
              "          -2.2379181 , -42.666573  ,  21.183083  ,  20.686653  ,\n",
              "          12.163715  , -26.107168  ,  29.903267  ,   7.7523675 ,\n",
              "          29.132355  ,  -7.7828016 ,  29.355225  , -10.808719  ,\n",
              "          13.694859  , -13.189093  , -18.984053  , -13.0764885 ,\n",
              "          41.112446  ,  -2.0476758 ,  30.616373  ,   7.1201987 ,\n",
              "          11.014038  ,  29.56875   ,  18.572044  , -14.376726  ,\n",
              "         -14.058984  ,  -5.27838   ,   8.495126  , -20.735674  ,\n",
              "          -2.056234  ,  12.669897  ,  26.850517  , -41.236153  ,\n",
              "           9.447184  ,  14.708361  , -14.021598  , -21.209734  ,\n",
              "         -12.654081  ,  27.049421  ,  10.940517  , -28.481876  ,\n",
              "         -14.9848175 ,  18.631556  , -21.709646  ,   7.721552  ,\n",
              "          21.958199  ,  15.571115  ,   6.6713133 ,  29.917223  ,\n",
              "          -5.1009855 , -27.054708  ,   8.047587  ,   1.0604943 ,\n",
              "           3.5763671 ,  13.194741  ,  38.375477  ,  19.03869   ,\n",
              "         -11.943863  ,   6.268488  ,  -4.493621  ,  -0.25432795,\n",
              "          30.390306  ,  15.09111   ],\n",
              "        [ 13.79434   ,  22.293543  ,  10.447147  , -16.997301  ,\n",
              "         -17.621157  ,  -1.4227501 ,  -5.3532643 ,  12.499504  ,\n",
              "          -5.072997  , -28.703163  ,  -3.9789665 , -27.27167   ,\n",
              "         -42.59564   , -35.44547   ,  -6.6863785 , -30.992186  ,\n",
              "          20.667086  ,  38.705315  ,  24.180174  ,  -8.107162  ,\n",
              "           9.087062  , -12.5956545 ,   7.1046357 , -14.8992    ,\n",
              "          17.85448   , -64.02544   , -20.905941  ,  26.170904  ,\n",
              "          13.231069  ,  32.205597  , -13.957945  ,  16.527996  ,\n",
              "          18.419668  ,   9.075879  ,  -0.8446126 ,  16.510695  ,\n",
              "         -29.369938  ,  23.770557  ,   1.7978877 ,   9.518681  ,\n",
              "           6.7257543 ,  -7.9408665 ,  -0.9422826 , -25.988148  ,\n",
              "         -23.48631   , -14.259913  ,  15.072736  ,  10.118085  ,\n",
              "          14.711094  ,  26.276148  ,  20.06594   ,  -4.616107  ,\n",
              "         -30.9724    ,  30.672207  , -14.051429  , -27.81532   ,\n",
              "         -29.542866  ,   8.422328  , -34.362076  ,  19.763268  ,\n",
              "         -14.655427  ,  26.209078  ,  20.915981  ,  35.05011   ,\n",
              "         -29.328661  , -10.239126  , -20.08443   ,  32.292988  ,\n",
              "          -4.938091  , -11.7849045 ,   5.519564  , -14.887025  ,\n",
              "          27.032118  ,  -6.5524783 ,  -7.9892    ,  -9.933628  ,\n",
              "         -18.034096  ,  19.150133  ,  10.873303  ,   1.2491156 ,\n",
              "          -0.89563733,  -7.6439323 ,  -2.325466  ,  -1.5105965 ,\n",
              "          23.921461  ,  10.419646  ,  23.991613  , -40.1181    ,\n",
              "          -2.342728  , -42.604694  ,  21.119312  ,  20.714891  ,\n",
              "          12.132736  , -26.035751  ,  29.798899  ,   7.932601  ,\n",
              "          29.12074   ,  -7.9713597 ,  29.280584  , -10.899596  ,\n",
              "          13.740013  , -13.14907   , -19.149918  , -12.809363  ,\n",
              "          41.030838  ,  -2.0153205 ,  30.696957  ,   7.176099  ,\n",
              "          11.13325   ,  29.728443  ,  18.75827   , -14.425392  ,\n",
              "         -14.065695  ,  -5.2328987 ,   8.557702  , -20.684273  ,\n",
              "          -2.134548  ,  12.758732  ,  26.804386  , -41.339607  ,\n",
              "           9.358899  ,  14.728502  , -14.029641  , -21.172304  ,\n",
              "         -12.678545  ,  27.023525  ,  10.963113  , -28.41531   ,\n",
              "         -14.8803    ,  18.534004  , -21.76751   ,   7.6492968 ,\n",
              "          21.93739   ,  15.529649  ,   6.7027698 ,  29.932302  ,\n",
              "          -5.070776  , -27.251093  ,   7.990918  ,   1.0819526 ,\n",
              "           3.5596478 ,  13.151628  ,  38.28376   ,  19.040754  ,\n",
              "         -11.9699745 ,   6.2125387 ,  -4.555623  ,  -0.3837636 ,\n",
              "          30.418894  ,  15.100225  ],\n",
              "        [ 13.867503  ,  22.35464   ,  10.274331  , -17.200483  ,\n",
              "         -17.647112  ,  -1.5032637 ,  -5.370416  ,  12.370789  ,\n",
              "          -5.1040516 , -28.733528  ,  -3.949827  , -27.318592  ,\n",
              "         -42.612587  , -35.494995  ,  -6.6822696 , -31.063488  ,\n",
              "          20.802597  ,  38.732647  ,  24.110994  ,  -8.063731  ,\n",
              "           9.1714    , -12.526486  ,   7.174708  , -14.909037  ,\n",
              "          17.886448  , -64.09735   , -20.882631  ,  26.172586  ,\n",
              "          13.250719  ,  32.15842   , -14.015887  ,  16.539177  ,\n",
              "          18.348974  ,   9.106807  ,  -0.72425854,  16.27791   ,\n",
              "         -29.29271   ,  23.662008  ,   1.9486655 ,   9.572229  ,\n",
              "           6.769574  ,  -7.9160914 ,  -0.97899336, -25.972857  ,\n",
              "         -23.598557  , -14.265369  ,  15.187643  ,  10.115537  ,\n",
              "          14.70454   ,  26.371675  ,  20.08961   ,  -4.720468  ,\n",
              "         -31.016024  ,  30.760517  , -14.071826  , -27.898746  ,\n",
              "         -29.524609  ,   8.435656  , -34.41242   ,  19.661034  ,\n",
              "         -14.758234  ,  26.264372  ,  20.99131   ,  35.062004  ,\n",
              "         -29.34711   , -10.203029  , -20.13194   ,  32.328213  ,\n",
              "          -4.9723215 , -11.83423   ,   5.560429  , -14.876861  ,\n",
              "          27.156794  ,  -6.6818285 ,  -8.044501  , -10.054606  ,\n",
              "         -18.052345  ,  19.013779  ,  10.806523  ,   1.1531929 ,\n",
              "          -0.878871  ,  -7.7443266 ,  -2.3786857 ,  -1.5865633 ,\n",
              "          23.93934   ,  10.398012  ,  23.953075  , -40.037594  ,\n",
              "          -2.2575457 , -42.6488    ,  21.170517  ,  20.71375   ,\n",
              "          12.117552  , -26.086414  ,  29.867111  ,   7.7515545 ,\n",
              "          29.139116  ,  -7.774764  ,  29.323042  , -10.864781  ,\n",
              "          13.686811  , -13.165101  , -18.989977  , -13.035415  ,\n",
              "          41.087807  ,  -1.9898285 ,  30.631918  ,   7.0978456 ,\n",
              "          11.046634  ,  29.571875  ,  18.614832  , -14.36707   ,\n",
              "         -14.051113  ,  -5.3254647 ,   8.480929  , -20.729832  ,\n",
              "          -2.0755713 ,  12.673051  ,  26.83458   , -41.26473   ,\n",
              "           9.431522  ,  14.724693  , -14.017022  , -21.210205  ,\n",
              "         -12.703123  ,  27.04091   ,  10.955135  , -28.431387  ,\n",
              "         -14.970565  ,  18.625175  , -21.72238   ,   7.730993  ,\n",
              "          21.97222   ,  15.555438  ,   6.6703305 ,  29.897934  ,\n",
              "          -5.1103826 , -27.07723   ,   8.020422  ,   1.0683987 ,\n",
              "           3.5877674 ,  13.16786   ,  38.35242   ,  19.064955  ,\n",
              "         -11.9471245 ,   6.253107  ,  -4.489613  ,  -0.27756125,\n",
              "          30.428518  ,  15.095401  ],\n",
              "        [ 13.811848  ,  22.303823  ,  10.401038  , -17.035593  ,\n",
              "         -17.626387  ,  -1.438858  ,  -5.361109  ,  12.467706  ,\n",
              "          -5.0932574 , -28.704786  ,  -3.96893   , -27.279974  ,\n",
              "         -42.58989   , -35.468678  ,  -6.6775284 , -31.007858  ,\n",
              "          20.687729  ,  38.705883  ,  24.154385  ,  -8.0949545 ,\n",
              "           9.110566  , -12.582438  ,   7.1106105 , -14.889605  ,\n",
              "          17.865913  , -64.03365   , -20.888802  ,  26.165613  ,\n",
              "          13.236363  ,  32.19355   , -13.975257  ,  16.517717  ,\n",
              "          18.400944  ,   9.088091  ,  -0.80167377,  16.454071  ,\n",
              "         -29.358208  ,  23.749445  ,   1.8296615 ,   9.5189495 ,\n",
              "           6.7431984 ,  -7.928866  ,  -0.9424401 , -25.961004  ,\n",
              "         -23.492926  , -14.241764  ,  15.088656  ,  10.117983  ,\n",
              "          14.703475  ,  26.294666  ,  20.067871  ,  -4.6388035 ,\n",
              "         -30.97779   ,  30.688826  , -14.067442  , -27.837097  ,\n",
              "         -29.549366  ,   8.420188  , -34.364914  ,  19.736675  ,\n",
              "         -14.686687  ,  26.21167   ,  20.933273  ,  35.028843  ,\n",
              "         -29.323885  , -10.223743  , -20.100435  ,  32.315746  ,\n",
              "          -4.9488373 , -11.800138  ,   5.5368905 , -14.891563  ,\n",
              "          27.06435   ,  -6.5853214 ,  -7.999472  ,  -9.962175  ,\n",
              "         -18.034155  ,  19.118275  ,  10.853559  ,   1.2352695 ,\n",
              "          -0.88172615,  -7.6614122 ,  -2.3290567 ,  -1.5526087 ,\n",
              "          23.91566   ,  10.420245  ,  23.979176  , -40.092865  ,\n",
              "          -2.3281512 , -42.606766  ,  21.129633  ,  20.72494   ,\n",
              "          12.11279   , -26.039875  ,  29.805635  ,   7.8923464 ,\n",
              "          29.126905  ,  -7.928093  ,  29.278345  , -10.913345  ,\n",
              "          13.726604  , -13.1418705 , -19.114307  , -12.847741  ,\n",
              "          41.030014  ,  -1.993026  ,  30.68265   ,   7.1518707 ,\n",
              "          11.125295  ,  29.689383  ,  18.733711  , -14.414776  ,\n",
              "         -14.05983   ,  -5.26923   ,   8.528144  , -20.692335  ,\n",
              "          -2.1292536 ,  12.739987  ,  26.809526  , -41.332985  ,\n",
              "           9.370407  ,  14.735254  , -14.019388  , -21.180141  ,\n",
              "         -12.691802  ,  27.021383  ,  10.964779  , -28.400759  ,\n",
              "         -14.895205  ,  18.550358  , -21.757557  ,   7.6702137 ,\n",
              "          21.950403  ,  15.525349  ,   6.693106  ,  29.913809  ,\n",
              "          -5.084174  , -27.214352  ,   7.986719  ,   1.0812759 ,\n",
              "           3.5587227 ,  13.144688  ,  38.291306  ,  19.051718  ,\n",
              "         -11.967381  ,   6.2199626 ,  -4.539124  ,  -0.36712378,\n",
              "          30.430828  ,  15.099134  ]], dtype=float32),\n",
              " array([ 2.2840803e+01, -3.5832623e+01,  1.5823084e+01,  9.5648689e+00,\n",
              "        -5.5147910e+00,  2.8262100e+01,  6.9966035e+00,  4.4749092e+01,\n",
              "         6.5376124e+00,  4.7321191e+00,  3.6156002e+01,  7.2108183e+00,\n",
              "         1.5861407e+01, -1.2400899e+00, -1.9117453e+01,  3.6304245e+00,\n",
              "         1.6255272e+01,  1.0403637e+01,  3.3986946e+01,  4.1969523e+00,\n",
              "         1.9468637e+01, -1.3421593e+00, -1.6664782e+01,  2.9084120e+01,\n",
              "         1.8457204e+00,  2.6130779e+01, -2.3182646e+01,  1.2722257e+01,\n",
              "         8.9117441e+00, -6.0725102e+00, -3.4840767e+01, -2.2262168e+00,\n",
              "         4.9180417e+00, -2.9856152e+01,  1.2766047e+01, -1.1828052e+01,\n",
              "        -6.5425525e+00, -3.1269989e+01, -2.7260815e+01,  1.8189367e+01,\n",
              "        -7.3670259e+00,  1.6913172e+01,  6.1793842e+00,  2.2084183e+01,\n",
              "         1.3576142e+00,  1.4482203e+01,  1.3283018e+01, -3.6851006e+01,\n",
              "         2.4174089e+01, -2.1801226e+00, -1.6725698e+00,  1.2183162e+01,\n",
              "        -3.8277493e+00,  2.3776333e+00, -3.5675883e+00,  5.2410830e-02,\n",
              "         5.5470214e+00, -4.8815060e+01,  8.0614531e-01, -4.0095987e+00,\n",
              "        -1.0041536e+01,  7.8136845e+00, -3.0989407e+01,  1.8238400e+01,\n",
              "         1.0759084e+01,  6.9870896e+00, -4.2347034e+01, -4.0031090e+01,\n",
              "         1.6956316e+01, -2.4310446e+01,  4.6769710e+00, -2.3944313e+01,\n",
              "         5.9986874e-02,  4.6714005e+01, -4.0962646e+01,  7.4772611e+00,\n",
              "        -5.4553043e+01, -2.5085760e+01,  1.4377250e+01,  1.2660907e+01,\n",
              "        -1.3659645e+01,  1.4574806e+01,  3.6300507e+01, -9.4414854e+00,\n",
              "         2.2611444e+00, -5.3416988e+01, -5.9729886e+00, -5.4886503e+00,\n",
              "         4.3867307e+00,  2.3968487e+00,  4.0118813e+01,  4.6804775e+01,\n",
              "         3.1878031e+01, -2.6338638e+01,  2.5965862e+01, -7.5882440e+00,\n",
              "         1.2720328e+01, -6.2843871e+00, -1.4724202e+01, -3.6633144e+01,\n",
              "         2.0158213e+01, -4.6595159e+00,  1.3807709e+00, -2.3486776e+01,\n",
              "        -7.0333567e+00, -9.0500698e+00, -1.4939462e+01, -2.1304178e+00,\n",
              "         9.9011822e+00,  1.2305996e+01, -2.3534176e+01, -4.9118505e+00,\n",
              "         1.6255997e+00, -2.2503513e+01,  2.6595266e+00,  3.9930214e+01,\n",
              "         1.5331827e+01, -4.1750702e+01, -1.2889204e+01,  1.9477749e+01,\n",
              "        -1.4917783e+01, -6.1669422e+01,  3.7404732e+01,  5.5545254e+00,\n",
              "        -1.0154546e+01, -1.5541874e+01, -1.5402178e+01,  6.8668385e+00],\n",
              "       dtype=float32))"
            ]
          },
          "metadata": {},
          "execution_count": 51
        }
      ]
    },
    {
      "cell_type": "code",
      "source": [
        "how_many_back = 2\n",
        "\n",
        "cosine_similarity(encoded_dataset, mu[:,-how_many_back].numpy()),np.argmax(cosine_similarity(encoded_dataset, mu[:,-how_many_back].numpy()),axis=1)"
      ],
      "metadata": {
        "colab": {
          "base_uri": "https://localhost:8080/"
        },
        "id": "ebjCXa42x328",
        "outputId": "6c026d41-ab75-4167-a092-a725ec538bf5"
      },
      "execution_count": null,
      "outputs": [
        {
          "output_type": "execute_result",
          "data": {
            "text/plain": [
              "(array([[ 0.9430996 ,  0.02294789,  0.04345544, ..., -0.06286242,\n",
              "         -0.00216972,  0.06318045],\n",
              "        [-0.08957347,  0.96350944, -0.0848925 , ...,  0.00219839,\n",
              "         -0.09731662,  0.11018089],\n",
              "        [ 0.1378291 , -0.13423131,  0.966077  , ..., -0.15148258,\n",
              "          0.22267634, -0.21699694],\n",
              "        [ 0.19795786, -0.24078698,  0.22426273, ...,  0.09078967,\n",
              "          0.38987496, -0.33121586],\n",
              "        [-0.03814335,  0.06091263,  0.14623366, ..., -0.2110196 ,\n",
              "          0.02745309, -0.06734868]], dtype=float32),\n",
              " array([0, 1, 2, 3, 4]))"
            ]
          },
          "metadata": {},
          "execution_count": 37
        }
      ]
    },
    {
      "cell_type": "code",
      "source": [
        "import numpy as np\n",
        "\n",
        "how_many_back = 8\n",
        "\n",
        "# Calculate cosine similarity matrix\n",
        "similarity_matrix = cosine_similarity(encoded_dataset, mu[:,-how_many_back].numpy())\n",
        "\n",
        "# Get indices that would sort each row\n",
        "sorted_indices = np.argsort(similarity_matrix, axis=1)\n",
        "\n",
        "# Select the last 5 indices from each row (top 5 highest values)\n",
        "top_5_indices = sorted_indices[:, -5:][::,::-1]\n",
        "top_5_indices"
      ],
      "metadata": {
        "colab": {
          "base_uri": "https://localhost:8080/"
        },
        "id": "-UYHwx21VV5-",
        "outputId": "3b662111-f5fc-4e39-f918-8bb6fcb59f43"
      },
      "execution_count": null,
      "outputs": [
        {
          "output_type": "execute_result",
          "data": {
            "text/plain": [
              "array([[     0, 199829, 100219,   3125,  11561],\n",
              "       [     1, 192594, 133178,  49375,  88616],\n",
              "       [     2,  72570, 137576, 111086,  12441],\n",
              "       [     3,  57842, 103302,  33349,  60315],\n",
              "       [     4,  76472,  75704,  68525,  98296]])"
            ]
          },
          "metadata": {},
          "execution_count": 42
        }
      ]
    },
    {
      "cell_type": "code",
      "source": [
        "dataset[0], dataset[108685]"
      ],
      "metadata": {
        "colab": {
          "base_uri": "https://localhost:8080/"
        },
        "id": "ZKt89RRb7HRf",
        "outputId": "12ed0c45-337d-486b-da0f-b5c14c535623"
      },
      "execution_count": null,
      "outputs": [
        {
          "output_type": "execute_result",
          "data": {
            "text/plain": [
              "(array([4, 7, 1, 5, 8, 3, 4, 6]), array([6, 9, 1, 5, 5, 4, 0, 1]))"
            ]
          },
          "metadata": {},
          "execution_count": 156
        }
      ]
    },
    {
      "cell_type": "code",
      "source": [
        "dataset[191051]"
      ],
      "metadata": {
        "colab": {
          "base_uri": "https://localhost:8080/"
        },
        "id": "LNQnA8DKUkCT",
        "outputId": "ba55a183-b053-445a-eeda-b548e733afce"
      },
      "execution_count": null,
      "outputs": [
        {
          "output_type": "execute_result",
          "data": {
            "text/plain": [
              "array([3, 9, 2, 3, 6, 2, 6, 1])"
            ]
          },
          "metadata": {},
          "execution_count": 157
        }
      ]
    },
    {
      "cell_type": "code",
      "source": [
        " mu[:,-1].numpy()"
      ],
      "metadata": {
        "colab": {
          "base_uri": "https://localhost:8080/"
        },
        "id": "EPBEdWnZUltl",
        "outputId": "d8d8e45e-88ee-46d5-a119-bf15bc8b4cc4"
      },
      "execution_count": null,
      "outputs": [
        {
          "output_type": "execute_result",
          "data": {
            "text/plain": [
              "array([[-4.63846350e+00, -1.38352370e+00, -4.11131096e+00,\n",
              "         6.47630262e+00,  1.54384935e+00,  1.05357158e+00,\n",
              "        -5.01653373e-01, -1.57940775e-01,  7.20407963e-01,\n",
              "        -2.76102662e-01, -3.60754681e+00,  5.83296299e+00,\n",
              "         7.58659554e+00, -2.30646059e-01,  4.59430265e+00,\n",
              "        -1.96445751e+00, -2.19599128e+00,  2.68875933e+00,\n",
              "         2.45322776e+00, -5.81565237e+00,  4.08688784e-01,\n",
              "        -1.34414887e+00,  3.02105522e+00, -7.77920663e-01,\n",
              "        -2.71984673e+00,  6.32329035e+00,  5.95422554e+00,\n",
              "         1.71255159e+00,  3.17905712e+00, -3.21879959e+00,\n",
              "         1.07918882e+00, -1.92385244e+00, -1.68632030e+00,\n",
              "         2.54303312e+00,  8.80473673e-01, -1.29610479e+00,\n",
              "         1.70979524e+00, -1.23093581e+00,  1.71489692e+00,\n",
              "        -1.18380260e+00, -2.06339359e-03, -2.65486884e+00,\n",
              "         1.18461788e-01, -2.99230409e+00, -6.99364996e+00,\n",
              "         2.20235372e+00, -2.13082600e+00,  1.29833770e+00,\n",
              "        -3.56476605e-01, -1.56374645e+00, -1.91729605e+00,\n",
              "         5.51310015e+00, -5.69699585e-01,  4.36126184e+00,\n",
              "        -3.22086096e+00, -5.08502197e+00, -3.76895523e+00,\n",
              "         1.74535227e+00,  2.00088859e+00, -2.51326060e+00,\n",
              "        -1.88975191e+00, -2.91802406e-01, -8.49514127e-01,\n",
              "         1.80710244e+00],\n",
              "       [-9.63751674e-01,  2.40132070e+00,  2.36881685e+00,\n",
              "         2.69010544e+00,  4.62143958e-01,  5.01133859e-01,\n",
              "        -5.54146230e-01, -4.76384926e+00, -1.94529581e+00,\n",
              "         4.90517557e-01, -6.76964700e-01,  1.53186250e+00,\n",
              "         2.91747046e+00,  2.91909277e-02,  2.49445319e+00,\n",
              "        -8.37681532e-01,  1.03315413e+00, -1.99929702e+00,\n",
              "         2.41839170e+00, -5.93120098e+00,  1.04881668e+00,\n",
              "        -2.98136234e+00, -9.17389989e-02, -2.34046602e+00,\n",
              "         7.10358095e+00,  3.45482945e-01,  2.38651538e+00,\n",
              "         2.81591463e+00,  6.24337101e+00, -4.30552626e+00,\n",
              "        -1.95536208e+00,  3.10959041e-01, -3.14309537e-01,\n",
              "        -1.60009801e+00, -4.90753126e+00,  2.06959844e-02,\n",
              "        -5.78813732e-01,  2.05761433e+00, -1.67640555e+00,\n",
              "         9.61741984e-01, -4.41746116e-02,  2.05000710e+00,\n",
              "         2.21381998e+00, -6.00179791e-01, -3.56105232e+00,\n",
              "         6.42014360e+00, -3.88091636e+00,  1.58035350e+00,\n",
              "        -1.01443207e+00,  2.09617472e+00, -3.13013494e-01,\n",
              "        -4.40185595e+00, -4.60323191e+00, -8.54928553e-01,\n",
              "        -9.75553036e-01,  8.60553980e-01, -8.19464207e+00,\n",
              "         5.76986217e+00, -6.11052704e+00,  4.27809668e+00,\n",
              "        -4.31782663e-01, -1.11457562e+00,  3.32863283e+00,\n",
              "        -2.14199454e-01],\n",
              "       [ 3.33192158e+00,  2.72788334e+00, -4.21406180e-02,\n",
              "         1.47490907e+00, -3.37059379e-01, -4.26106405e+00,\n",
              "         4.93715942e-01,  1.68899679e+00,  6.33498132e-01,\n",
              "        -1.89466250e+00,  1.45736146e+00, -5.42290878e+00,\n",
              "         9.63864994e+00, -8.94517899e-02, -3.38546777e+00,\n",
              "        -8.74664426e-01, -6.54097080e-01, -1.68613434e+00,\n",
              "        -4.73123455e+00, -1.70480585e+00,  3.74421978e+00,\n",
              "         8.02317142e-01, -5.54580402e+00,  2.98121715e+00,\n",
              "        -2.11873126e+00,  1.15724003e+00, -4.53934526e+00,\n",
              "         1.82669353e+00, -9.95686769e-01, -7.94482648e-01,\n",
              "        -9.84121501e-01,  2.99608254e+00,  3.86449546e-01,\n",
              "        -2.57419538e+00,  4.83532810e+00,  6.60918057e-02,\n",
              "        -3.67006838e-01, -1.21992677e-01, -8.21294129e-01,\n",
              "         1.39813638e+00, -5.31718135e-04, -6.84920168e+00,\n",
              "        -1.05318248e+00, -7.14776441e-02, -2.47011185e+00,\n",
              "        -6.28193188e+00,  2.20562816e+00,  2.07558036e-01,\n",
              "         1.43658423e+00,  8.11065316e-01, -5.05428553e+00,\n",
              "         5.27087402e+00,  1.85352767e+00,  4.54505253e+00,\n",
              "        -1.24751961e+00,  4.40938085e-01,  1.04045982e+01,\n",
              "        -1.36871874e-01, -8.94622326e-01, -1.07363391e+00,\n",
              "         3.55863452e-01,  2.28630543e+00, -1.08615708e+00,\n",
              "         3.28836894e+00],\n",
              "       [-4.34609985e+00, -4.80359411e+00, -6.08376503e-01,\n",
              "         4.60747480e+00,  3.53413075e-01, -7.39764690e-01,\n",
              "         1.74739850e+00,  2.21299076e+00,  1.45835185e+00,\n",
              "         1.22169101e+00, -3.66884398e+00,  1.39119291e+00,\n",
              "        -5.08385229e+00, -6.20608449e-01,  6.19370580e-01,\n",
              "        -2.53418326e-01, -4.20030892e-01,  9.17004228e-01,\n",
              "         4.78664923e+00, -3.35607290e-01, -6.69415474e+00,\n",
              "        -3.30338383e+00,  6.95248699e+00,  2.00471663e+00,\n",
              "         4.97039348e-01, -2.48998499e+00, -3.38540971e-01,\n",
              "         3.68340349e+00, -5.25445175e+00,  3.45962763e-01,\n",
              "         2.52548265e+00, -9.52964485e-01, -4.22405154e-01,\n",
              "         1.19559610e+00, -1.89199245e+00, -2.32644343e+00,\n",
              "         6.71855211e-01, -9.31320190e-01, -1.21404350e+00,\n",
              "         2.78687298e-01,  1.17405474e-01, -1.11124265e+00,\n",
              "         2.09234500e+00, -1.95190620e+00, -5.39001369e+00,\n",
              "         1.79826880e+00, -8.30969810e+00,  2.04168725e+00,\n",
              "         2.92467284e+00,  1.25308919e+00, -2.09371090e+00,\n",
              "         6.13492680e+00,  2.91533923e+00,  3.77403259e+00,\n",
              "         6.03615618e+00, -2.38132381e+00,  9.24408793e-01,\n",
              "         4.00037861e+00,  6.98845208e-01,  9.45573330e-01,\n",
              "         1.68486762e+00, -1.09098339e+00, -3.76262784e-01,\n",
              "        -9.04437256e+00],\n",
              "       [ 5.60705066e-01,  3.61213303e+00,  1.12098444e+00,\n",
              "        -7.51010370e+00, -1.63216829e+00,  3.04414558e+00,\n",
              "        -9.41253841e-01,  1.20855260e+00, -2.40987897e+00,\n",
              "        -1.32865369e+00,  1.43323565e+00, -6.46317291e+00,\n",
              "         5.46183205e+00, -4.93446320e-01, -5.91522396e-01,\n",
              "        -8.94536078e-01,  4.76882607e-01,  2.02514243e+00,\n",
              "        -2.86210608e+00,  4.68927145e-01,  1.11657438e+01,\n",
              "         1.49356627e+00, -4.40185499e+00, -6.99393463e+00,\n",
              "        -1.03150296e+00, -2.72862864e+00,  2.00052691e+00,\n",
              "        -1.15541652e-01,  1.61165953e+00, -1.55949414e+00,\n",
              "        -7.24277198e-01, -2.69319701e+00,  4.86121774e-01,\n",
              "        -5.88809073e-01, -1.41860747e+00, -1.76318455e+00,\n",
              "        -9.92256463e-01, -3.26242805e-01, -6.42817259e-01,\n",
              "         1.13566947e+00,  6.61368594e-02,  3.98522258e+00,\n",
              "         7.91410744e-01,  5.67183137e-01, -1.70400083e+00,\n",
              "         7.86148190e-01,  3.54298902e+00,  1.86272264e+00,\n",
              "        -1.97280657e+00,  4.22368622e+00,  7.19701576e+00,\n",
              "        -1.33945012e+00,  7.28580594e-01, -3.38992089e-01,\n",
              "         5.10209799e+00, -1.20874047e+00, -9.83776379e+00,\n",
              "        -1.04504609e+00, -5.47883868e-01,  2.56086540e+00,\n",
              "        -5.56494236e-01,  1.88469857e-01, -1.71785259e+00,\n",
              "         3.58407712e+00]], dtype=float32)"
            ]
          },
          "metadata": {},
          "execution_count": 158
        }
      ]
    },
    {
      "cell_type": "code",
      "source": [
        "cosine_similarity(dataset[191051], mu[:,-1].numpy())"
      ],
      "metadata": {
        "colab": {
          "base_uri": "https://localhost:8080/",
          "height": 269
        },
        "id": "jZQ_KN7jUU_i",
        "outputId": "cb5311a9-8d28-4fca-ea10-9fdfd87a9831"
      },
      "execution_count": null,
      "outputs": [
        {
          "output_type": "error",
          "ename": "ValueError",
          "evalue": "shapes (1,128) and (24,2) not aligned: 128 (dim 1) != 24 (dim 0)",
          "traceback": [
            "\u001b[0;31m---------------------------------------------------------------------------\u001b[0m",
            "\u001b[0;31mValueError\u001b[0m                                Traceback (most recent call last)",
            "\u001b[0;32m<ipython-input-29-deee8b2a0b0b>\u001b[0m in \u001b[0;36m<cell line: 1>\u001b[0;34m()\u001b[0m\n\u001b[0;32m----> 1\u001b[0;31m \u001b[0mcosine_similarity\u001b[0m\u001b[0;34m(\u001b[0m\u001b[0mdataset\u001b[0m\u001b[0;34m[\u001b[0m\u001b[0;36m191051\u001b[0m\u001b[0;34m]\u001b[0m\u001b[0;34m,\u001b[0m \u001b[0mmu\u001b[0m\u001b[0;34m[\u001b[0m\u001b[0;34m:\u001b[0m\u001b[0;34m,\u001b[0m\u001b[0;34m-\u001b[0m\u001b[0;36m1\u001b[0m\u001b[0;34m]\u001b[0m\u001b[0;34m.\u001b[0m\u001b[0mnumpy\u001b[0m\u001b[0;34m(\u001b[0m\u001b[0;34m)\u001b[0m\u001b[0;34m)\u001b[0m\u001b[0;34m\u001b[0m\u001b[0;34m\u001b[0m\u001b[0m\n\u001b[0m",
            "\u001b[0;32m<ipython-input-28-020644346357>\u001b[0m in \u001b[0;36mcosine_similarity\u001b[0;34m(a, b)\u001b[0m\n\u001b[1;32m     11\u001b[0m \u001b[0;34m\u001b[0m\u001b[0m\n\u001b[1;32m     12\u001b[0m     \u001b[0;31m# Compute the dot product of every row in a with every row in b\u001b[0m\u001b[0;34m\u001b[0m\u001b[0;34m\u001b[0m\u001b[0m\n\u001b[0;32m---> 13\u001b[0;31m     \u001b[0mdot_product\u001b[0m \u001b[0;34m=\u001b[0m \u001b[0mnp\u001b[0m\u001b[0;34m.\u001b[0m\u001b[0mdot\u001b[0m\u001b[0;34m(\u001b[0m\u001b[0ma\u001b[0m\u001b[0;34m,\u001b[0m \u001b[0mb\u001b[0m\u001b[0;34m.\u001b[0m\u001b[0mT\u001b[0m\u001b[0;34m)\u001b[0m\u001b[0;34m\u001b[0m\u001b[0;34m\u001b[0m\u001b[0m\n\u001b[0m\u001b[1;32m     14\u001b[0m \u001b[0;34m\u001b[0m\u001b[0m\n\u001b[1;32m     15\u001b[0m     \u001b[0;31m# Normalize the dot products to compute the cosine similarities\u001b[0m\u001b[0;34m\u001b[0m\u001b[0;34m\u001b[0m\u001b[0m\n",
            "\u001b[0;31mValueError\u001b[0m: shapes (1,128) and (24,2) not aligned: 128 (dim 1) != 24 (dim 0)"
          ]
        }
      ]
    },
    {
      "cell_type": "code",
      "source": [
        "def tf_cosine_similarity(a, b):\n",
        "    # Expand dimensions of b if it is a 1D array\n",
        "    if len(b.shape) == 1:\n",
        "        b = tf.expand_dims(b, 0)\n",
        "\n",
        "    # Compute the norms of each row in both matrices\n",
        "\n",
        "\n",
        "    norm_a = tf.norm(a, axis=-1, keepdims=True)  # Keeps the second dimension as 1\n",
        "    norm_b = tf.norm(b, axis=-1, keepdims=True)\n",
        "\n",
        "    print(\"Shape of a:\", a.shape)\n",
        "    print(\"Shape of b after expanding dimensions:\", b.shape)\n",
        "    print(\"Shape of norm_a:\", norm_a.shape)\n",
        "    print(\"Shape of norm_b:\", norm_b.shape)\n",
        "\n",
        "    norm_b = tf.transpose(norm_b, perm=[0, 2, 1])\n",
        "\n",
        "    # Now, multiply the norms and ensure they are correctly shaped for broadcasting\n",
        "    norms_product = norm_a * norm_b\n",
        "\n",
        "\n",
        "    # Compute the dot product of every row in a with every row in b\n",
        "    dot_product = tf.matmul(a, tf.transpose(b, perm=[0, 2, 1]))\n",
        "\n",
        "    print(\"Shape of dot_product:\", dot_product.shape)\n",
        "\n",
        "    # Normalize the dot products to compute the cosine similarities\n",
        "    cos_sim = dot_product / norms_product\n",
        "\n",
        "    return tf.transpose(cos_sim, perm=[0, 2, 1])\n",
        "\n",
        "\n",
        "\n",
        "class memory_retriever(tf.keras.Model):\n",
        "  def __init__(self, vocab_size, num_heads, key_dim, num_layers, memory, encoder_model):\n",
        "    super().__init__()\n",
        "\n",
        "    self.memory = tf.convert_to_tensor(memory)\n",
        "\n",
        "    self.encoder_model = encoder_model\n",
        "\n",
        "    self.encoder_model.trainable = False\n",
        "\n",
        "    self.embeddings = kn.layers.ReversibleEmbedding(vocab_size, key_dim)\n",
        "\n",
        "    self.combiner = tf.keras.layers.Dense(key_dim)\n",
        "\n",
        "    self.rope = kn.layers.RotaryEmbedding()\n",
        "\n",
        "    self.intermediate_layers = [transformer_decoder_block(num_heads, key_dim) for i in range(num_layers)]\n",
        "\n",
        "  def call(self, x):\n",
        "    print(\"start\")\n",
        "    mu, log_var  = self.encoder_model(x)\n",
        "    mu = mu#[:,-1]#.numpy()\n",
        "    print(mu)\n",
        "    similarity_matrix = tf_cosine_similarity(self.memory, mu)\n",
        "    print(similarity_matrix)\n",
        "    maximum_similarities = tf.argmax(similarity_matrix, axis=-1)\n",
        "    print(maximum_similarities)\n",
        "    memories = tf.gather(self.memory, maximum_similarities)\n",
        "    print(memories)\n",
        "\n",
        "    #memories = memories[:,tf.newaxis,:]\n",
        "\n",
        "    memories = tf.stop_gradient(memories)\n",
        "\n",
        "    x = self.embeddings(x)\n",
        "\n",
        "    x = tf.concat([x, memories],axis=-1)\n",
        "\n",
        "    x = self.combiner(x)\n",
        "\n",
        "    x = self.rope(x)\n",
        "\n",
        "    for i in self.intermediate_layers:\n",
        "      x = i(x)\n",
        "\n",
        "    return self.embeddings(x, reverse=True)"
      ],
      "metadata": {
        "id": "mOqT5KikxRbx"
      },
      "execution_count": null,
      "outputs": []
    },
    {
      "cell_type": "code",
      "source": [
        "model = memory_retriever(upper_bound_integers, 8, 128, 3, encoded_dataset, test.encoder)\n",
        "X = dataset[:,:-1]\n",
        "Y = dataset[:,1:]\n",
        "model.compile(optimizer=tf.keras.optimizers.Adam(), loss=tf.keras.losses.SparseCategoricalCrossentropy(from_logits=True), metrics=[tf.keras.metrics.SparseCategoricalAccuracy()])\n",
        "model.summary()"
      ],
      "metadata": {
        "colab": {
          "base_uri": "https://localhost:8080/",
          "height": 430
        },
        "id": "j0Dghxeo0Zp4",
        "outputId": "ed0d0a6e-d7d8-46b7-87af-2dfce44f080e"
      },
      "execution_count": null,
      "outputs": [
        {
          "output_type": "display_data",
          "data": {
            "text/plain": [
              "\u001b[1mModel: \"memory_retriever\"\u001b[0m\n"
            ],
            "text/html": [
              "<pre style=\"white-space:pre;overflow-x:auto;line-height:normal;font-family:Menlo,'DejaVu Sans Mono',consolas,'Courier New',monospace\"><span style=\"font-weight: bold\">Model: \"memory_retriever\"</span>\n",
              "</pre>\n"
            ]
          },
          "metadata": {}
        },
        {
          "output_type": "display_data",
          "data": {
            "text/plain": [
              "┏━━━━━━━━━━━━━━━━━━━━━━━━━━━━━━━━━━━━━━┳━━━━━━━━━━━━━━━━━━━━━━━━━━━━━┳━━━━━━━━━━━━━━━━━┓\n",
              "┃\u001b[1m \u001b[0m\u001b[1mLayer (type)                        \u001b[0m\u001b[1m \u001b[0m┃\u001b[1m \u001b[0m\u001b[1mOutput Shape               \u001b[0m\u001b[1m \u001b[0m┃\u001b[1m \u001b[0m\u001b[1m        Param #\u001b[0m\u001b[1m \u001b[0m┃\n",
              "┡━━━━━━━━━━━━━━━━━━━━━━━━━━━━━━━━━━━━━━╇━━━━━━━━━━━━━━━━━━━━━━━━━━━━━╇━━━━━━━━━━━━━━━━━┩\n",
              "│ encoder_3 (\u001b[38;5;33mencoder\u001b[0m)                  │ ?                           │       \u001b[38;5;34m3,014,912\u001b[0m │\n",
              "├──────────────────────────────────────┼─────────────────────────────┼─────────────────┤\n",
              "│ reversible_embedding_8               │ ?                           │     \u001b[38;5;34m0\u001b[0m (unbuilt) │\n",
              "│ (\u001b[38;5;33mReversibleEmbedding\u001b[0m)                │                             │                 │\n",
              "├──────────────────────────────────────┼─────────────────────────────┼─────────────────┤\n",
              "│ dense_104 (\u001b[38;5;33mDense\u001b[0m)                    │ ?                           │     \u001b[38;5;34m0\u001b[0m (unbuilt) │\n",
              "├──────────────────────────────────────┼─────────────────────────────┼─────────────────┤\n",
              "│ rotary_embedding_8 (\u001b[38;5;33mRotaryEmbedding\u001b[0m) │ ?                           │               \u001b[38;5;34m0\u001b[0m │\n",
              "├──────────────────────────────────────┼─────────────────────────────┼─────────────────┤\n",
              "│ transformer_decoder_block_16         │ ?                           │     \u001b[38;5;34m0\u001b[0m (unbuilt) │\n",
              "│ (\u001b[38;5;33mtransformer_decoder_block\u001b[0m)          │                             │                 │\n",
              "├──────────────────────────────────────┼─────────────────────────────┼─────────────────┤\n",
              "│ transformer_decoder_block_17         │ ?                           │     \u001b[38;5;34m0\u001b[0m (unbuilt) │\n",
              "│ (\u001b[38;5;33mtransformer_decoder_block\u001b[0m)          │                             │                 │\n",
              "├──────────────────────────────────────┼─────────────────────────────┼─────────────────┤\n",
              "│ transformer_decoder_block_18         │ ?                           │     \u001b[38;5;34m0\u001b[0m (unbuilt) │\n",
              "│ (\u001b[38;5;33mtransformer_decoder_block\u001b[0m)          │                             │                 │\n",
              "└──────────────────────────────────────┴─────────────────────────────┴─────────────────┘\n"
            ],
            "text/html": [
              "<pre style=\"white-space:pre;overflow-x:auto;line-height:normal;font-family:Menlo,'DejaVu Sans Mono',consolas,'Courier New',monospace\">┏━━━━━━━━━━━━━━━━━━━━━━━━━━━━━━━━━━━━━━┳━━━━━━━━━━━━━━━━━━━━━━━━━━━━━┳━━━━━━━━━━━━━━━━━┓\n",
              "┃<span style=\"font-weight: bold\"> Layer (type)                         </span>┃<span style=\"font-weight: bold\"> Output Shape                </span>┃<span style=\"font-weight: bold\">         Param # </span>┃\n",
              "┡━━━━━━━━━━━━━━━━━━━━━━━━━━━━━━━━━━━━━━╇━━━━━━━━━━━━━━━━━━━━━━━━━━━━━╇━━━━━━━━━━━━━━━━━┩\n",
              "│ encoder_3 (<span style=\"color: #0087ff; text-decoration-color: #0087ff\">encoder</span>)                  │ ?                           │       <span style=\"color: #00af00; text-decoration-color: #00af00\">3,014,912</span> │\n",
              "├──────────────────────────────────────┼─────────────────────────────┼─────────────────┤\n",
              "│ reversible_embedding_8               │ ?                           │     <span style=\"color: #00af00; text-decoration-color: #00af00\">0</span> (unbuilt) │\n",
              "│ (<span style=\"color: #0087ff; text-decoration-color: #0087ff\">ReversibleEmbedding</span>)                │                             │                 │\n",
              "├──────────────────────────────────────┼─────────────────────────────┼─────────────────┤\n",
              "│ dense_104 (<span style=\"color: #0087ff; text-decoration-color: #0087ff\">Dense</span>)                    │ ?                           │     <span style=\"color: #00af00; text-decoration-color: #00af00\">0</span> (unbuilt) │\n",
              "├──────────────────────────────────────┼─────────────────────────────┼─────────────────┤\n",
              "│ rotary_embedding_8 (<span style=\"color: #0087ff; text-decoration-color: #0087ff\">RotaryEmbedding</span>) │ ?                           │               <span style=\"color: #00af00; text-decoration-color: #00af00\">0</span> │\n",
              "├──────────────────────────────────────┼─────────────────────────────┼─────────────────┤\n",
              "│ transformer_decoder_block_16         │ ?                           │     <span style=\"color: #00af00; text-decoration-color: #00af00\">0</span> (unbuilt) │\n",
              "│ (<span style=\"color: #0087ff; text-decoration-color: #0087ff\">transformer_decoder_block</span>)          │                             │                 │\n",
              "├──────────────────────────────────────┼─────────────────────────────┼─────────────────┤\n",
              "│ transformer_decoder_block_17         │ ?                           │     <span style=\"color: #00af00; text-decoration-color: #00af00\">0</span> (unbuilt) │\n",
              "│ (<span style=\"color: #0087ff; text-decoration-color: #0087ff\">transformer_decoder_block</span>)          │                             │                 │\n",
              "├──────────────────────────────────────┼─────────────────────────────┼─────────────────┤\n",
              "│ transformer_decoder_block_18         │ ?                           │     <span style=\"color: #00af00; text-decoration-color: #00af00\">0</span> (unbuilt) │\n",
              "│ (<span style=\"color: #0087ff; text-decoration-color: #0087ff\">transformer_decoder_block</span>)          │                             │                 │\n",
              "└──────────────────────────────────────┴─────────────────────────────┴─────────────────┘\n",
              "</pre>\n"
            ]
          },
          "metadata": {}
        },
        {
          "output_type": "display_data",
          "data": {
            "text/plain": [
              "\u001b[1m Total params: \u001b[0m\u001b[38;5;34m3,014,912\u001b[0m (11.50 MB)\n"
            ],
            "text/html": [
              "<pre style=\"white-space:pre;overflow-x:auto;line-height:normal;font-family:Menlo,'DejaVu Sans Mono',consolas,'Courier New',monospace\"><span style=\"font-weight: bold\"> Total params: </span><span style=\"color: #00af00; text-decoration-color: #00af00\">3,014,912</span> (11.50 MB)\n",
              "</pre>\n"
            ]
          },
          "metadata": {}
        },
        {
          "output_type": "display_data",
          "data": {
            "text/plain": [
              "\u001b[1m Trainable params: \u001b[0m\u001b[38;5;34m0\u001b[0m (0.00 B)\n"
            ],
            "text/html": [
              "<pre style=\"white-space:pre;overflow-x:auto;line-height:normal;font-family:Menlo,'DejaVu Sans Mono',consolas,'Courier New',monospace\"><span style=\"font-weight: bold\"> Trainable params: </span><span style=\"color: #00af00; text-decoration-color: #00af00\">0</span> (0.00 B)\n",
              "</pre>\n"
            ]
          },
          "metadata": {}
        },
        {
          "output_type": "display_data",
          "data": {
            "text/plain": [
              "\u001b[1m Non-trainable params: \u001b[0m\u001b[38;5;34m3,014,912\u001b[0m (11.50 MB)\n"
            ],
            "text/html": [
              "<pre style=\"white-space:pre;overflow-x:auto;line-height:normal;font-family:Menlo,'DejaVu Sans Mono',consolas,'Courier New',monospace\"><span style=\"font-weight: bold\"> Non-trainable params: </span><span style=\"color: #00af00; text-decoration-color: #00af00\">3,014,912</span> (11.50 MB)\n",
              "</pre>\n"
            ]
          },
          "metadata": {}
        }
      ]
    },
    {
      "cell_type": "markdown",
      "source": [
        "#Test"
      ],
      "metadata": {
        "id": "cR0WPAxlKj6D"
      }
    },
    {
      "cell_type": "code",
      "source": [
        "test_history = model.fit(X,Y, epochs=15, batch_size=128)"
      ],
      "metadata": {
        "colab": {
          "base_uri": "https://localhost:8080/",
          "height": 1000
        },
        "id": "5Bky04VE09Et",
        "outputId": "b6c119aa-c53d-4e6a-9c76-19efa48dc1e2"
      },
      "execution_count": null,
      "outputs": [
        {
          "output_type": "stream",
          "name": "stdout",
          "text": [
            "Epoch 1/15\n",
            "start\n",
            "Tensor(\"encoder_3_1/dense_90_1/Add:0\", shape=(None, 31, 128), dtype=float32)\n",
            "Shape of a: (200000, 128)\n",
            "Shape of b after expanding dimensions: (None, 31, 128)\n",
            "Shape of norm_a: (200000, 1)\n",
            "Shape of norm_b: (None, 31, 1)\n",
            "Shape of dot_product: (None, 200000, 31)\n",
            "Tensor(\"transpose_2:0\", shape=(None, 31, 200000), dtype=float32)\n",
            "Tensor(\"ArgMax:0\", shape=(None, 31), dtype=int64)\n",
            "Tensor(\"GatherV2:0\", shape=(None, 31, 128), dtype=float32)\n",
            "start\n",
            "Tensor(\"memory_retriever_1/encoder_3_1/dense_90_1/Add:0\", shape=(None, 31, 128), dtype=float32)\n",
            "Shape of a: (200000, 128)\n",
            "Shape of b after expanding dimensions: (None, 31, 128)\n",
            "Shape of norm_a: (200000, 1)\n",
            "Shape of norm_b: (None, 31, 1)\n",
            "Shape of dot_product: (None, 200000, 31)\n",
            "Tensor(\"memory_retriever_1/transpose_2:0\", shape=(None, 31, 200000), dtype=float32)\n",
            "Tensor(\"memory_retriever_1/ArgMax:0\", shape=(None, 31), dtype=int64)\n",
            "Tensor(\"memory_retriever_1/GatherV2:0\", shape=(None, 31, 128), dtype=float32)\n",
            "start\n",
            "Tensor(\"memory_retriever_1/encoder_3_1/dense_90_1/Add:0\", shape=(None, 31, 128), dtype=float32)\n",
            "Shape of a: (200000, 128)\n",
            "Shape of b after expanding dimensions: (None, 31, 128)\n",
            "Shape of norm_a: (200000, 1)\n",
            "Shape of norm_b: (None, 31, 1)\n",
            "Shape of dot_product: (None, 200000, 31)\n",
            "Tensor(\"memory_retriever_1/transpose_2:0\", shape=(None, 31, 200000), dtype=float32)\n",
            "Tensor(\"memory_retriever_1/ArgMax:0\", shape=(None, 31), dtype=int64)\n",
            "Tensor(\"memory_retriever_1/GatherV2:0\", shape=(None, 31, 128), dtype=float32)\n",
            "\u001b[1m1563/1563\u001b[0m \u001b[32m━━━━━━━━━━━━━━━━━━━━\u001b[0m\u001b[37m\u001b[0m \u001b[1m77s\u001b[0m 27ms/step - loss: 3.8687 - sparse_categorical_accuracy: 0.0607\n",
            "Epoch 2/15\n",
            "\u001b[1m1563/1563\u001b[0m \u001b[32m━━━━━━━━━━━━━━━━━━━━\u001b[0m\u001b[37m\u001b[0m \u001b[1m28s\u001b[0m 18ms/step - loss: 3.4043 - sparse_categorical_accuracy: 0.1590\n",
            "Epoch 3/15\n",
            "\u001b[1m1563/1563\u001b[0m \u001b[32m━━━━━━━━━━━━━━━━━━━━\u001b[0m\u001b[37m\u001b[0m \u001b[1m28s\u001b[0m 18ms/step - loss: 3.2544 - sparse_categorical_accuracy: 0.1944\n",
            "Epoch 4/15\n",
            "\u001b[1m1563/1563\u001b[0m \u001b[32m━━━━━━━━━━━━━━━━━━━━\u001b[0m\u001b[37m\u001b[0m \u001b[1m29s\u001b[0m 18ms/step - loss: 3.1912 - sparse_categorical_accuracy: 0.2102\n",
            "Epoch 5/15\n",
            "\u001b[1m1563/1563\u001b[0m \u001b[32m━━━━━━━━━━━━━━━━━━━━\u001b[0m\u001b[37m\u001b[0m \u001b[1m29s\u001b[0m 19ms/step - loss: 3.1688 - sparse_categorical_accuracy: 0.2161\n",
            "Epoch 6/15\n",
            "\u001b[1m1563/1563\u001b[0m \u001b[32m━━━━━━━━━━━━━━━━━━━━\u001b[0m\u001b[37m\u001b[0m \u001b[1m29s\u001b[0m 19ms/step - loss: 3.1558 - sparse_categorical_accuracy: 0.2193\n",
            "Epoch 7/15\n",
            "\u001b[1m1563/1563\u001b[0m \u001b[32m━━━━━━━━━━━━━━━━━━━━\u001b[0m\u001b[37m\u001b[0m \u001b[1m29s\u001b[0m 19ms/step - loss: 3.1483 - sparse_categorical_accuracy: 0.2213\n",
            "Epoch 8/15\n",
            "\u001b[1m1563/1563\u001b[0m \u001b[32m━━━━━━━━━━━━━━━━━━━━\u001b[0m\u001b[37m\u001b[0m \u001b[1m30s\u001b[0m 19ms/step - loss: 3.1410 - sparse_categorical_accuracy: 0.2232\n",
            "Epoch 9/15\n",
            "\u001b[1m 379/1563\u001b[0m \u001b[32m━━━━\u001b[0m\u001b[37m━━━━━━━━━━━━━━━━\u001b[0m \u001b[1m22s\u001b[0m 19ms/step - loss: 3.1350 - sparse_categorical_accuracy: 0.2245"
          ]
        },
        {
          "output_type": "error",
          "ename": "KeyboardInterrupt",
          "evalue": "",
          "traceback": [
            "\u001b[0;31m---------------------------------------------------------------------------\u001b[0m",
            "\u001b[0;31mKeyboardInterrupt\u001b[0m                         Traceback (most recent call last)",
            "\u001b[0;32m<ipython-input-45-355b1d4e5469>\u001b[0m in \u001b[0;36m<cell line: 1>\u001b[0;34m()\u001b[0m\n\u001b[0;32m----> 1\u001b[0;31m \u001b[0mtest_history\u001b[0m \u001b[0;34m=\u001b[0m \u001b[0mmodel\u001b[0m\u001b[0;34m.\u001b[0m\u001b[0mfit\u001b[0m\u001b[0;34m(\u001b[0m\u001b[0mX\u001b[0m\u001b[0;34m,\u001b[0m\u001b[0mY\u001b[0m\u001b[0;34m,\u001b[0m \u001b[0mepochs\u001b[0m\u001b[0;34m=\u001b[0m\u001b[0;36m15\u001b[0m\u001b[0;34m,\u001b[0m \u001b[0mbatch_size\u001b[0m\u001b[0;34m=\u001b[0m\u001b[0;36m128\u001b[0m\u001b[0;34m)\u001b[0m\u001b[0;34m\u001b[0m\u001b[0;34m\u001b[0m\u001b[0m\n\u001b[0m",
            "\u001b[0;32m/usr/local/lib/python3.10/dist-packages/keras/src/utils/traceback_utils.py\u001b[0m in \u001b[0;36merror_handler\u001b[0;34m(*args, **kwargs)\u001b[0m\n\u001b[1;32m    115\u001b[0m         \u001b[0mfiltered_tb\u001b[0m \u001b[0;34m=\u001b[0m \u001b[0;32mNone\u001b[0m\u001b[0;34m\u001b[0m\u001b[0;34m\u001b[0m\u001b[0m\n\u001b[1;32m    116\u001b[0m         \u001b[0;32mtry\u001b[0m\u001b[0;34m:\u001b[0m\u001b[0;34m\u001b[0m\u001b[0;34m\u001b[0m\u001b[0m\n\u001b[0;32m--> 117\u001b[0;31m             \u001b[0;32mreturn\u001b[0m \u001b[0mfn\u001b[0m\u001b[0;34m(\u001b[0m\u001b[0;34m*\u001b[0m\u001b[0margs\u001b[0m\u001b[0;34m,\u001b[0m \u001b[0;34m**\u001b[0m\u001b[0mkwargs\u001b[0m\u001b[0;34m)\u001b[0m\u001b[0;34m\u001b[0m\u001b[0;34m\u001b[0m\u001b[0m\n\u001b[0m\u001b[1;32m    118\u001b[0m         \u001b[0;32mexcept\u001b[0m \u001b[0mException\u001b[0m \u001b[0;32mas\u001b[0m \u001b[0me\u001b[0m\u001b[0;34m:\u001b[0m\u001b[0;34m\u001b[0m\u001b[0;34m\u001b[0m\u001b[0m\n\u001b[1;32m    119\u001b[0m             \u001b[0mfiltered_tb\u001b[0m \u001b[0;34m=\u001b[0m \u001b[0m_process_traceback_frames\u001b[0m\u001b[0;34m(\u001b[0m\u001b[0me\u001b[0m\u001b[0;34m.\u001b[0m\u001b[0m__traceback__\u001b[0m\u001b[0;34m)\u001b[0m\u001b[0;34m\u001b[0m\u001b[0;34m\u001b[0m\u001b[0m\n",
            "\u001b[0;32m/usr/local/lib/python3.10/dist-packages/keras/src/backend/tensorflow/trainer.py\u001b[0m in \u001b[0;36mfit\u001b[0;34m(self, x, y, batch_size, epochs, verbose, callbacks, validation_split, validation_data, shuffle, class_weight, sample_weight, initial_epoch, steps_per_epoch, validation_steps, validation_batch_size, validation_freq)\u001b[0m\n\u001b[1;32m    312\u001b[0m                 \u001b[0;32mfor\u001b[0m \u001b[0mstep\u001b[0m\u001b[0;34m,\u001b[0m \u001b[0miterator\u001b[0m \u001b[0;32min\u001b[0m \u001b[0mepoch_iterator\u001b[0m\u001b[0;34m.\u001b[0m\u001b[0menumerate_epoch\u001b[0m\u001b[0;34m(\u001b[0m\u001b[0;34m)\u001b[0m\u001b[0;34m:\u001b[0m\u001b[0;34m\u001b[0m\u001b[0;34m\u001b[0m\u001b[0m\n\u001b[1;32m    313\u001b[0m                     \u001b[0mcallbacks\u001b[0m\u001b[0;34m.\u001b[0m\u001b[0mon_train_batch_begin\u001b[0m\u001b[0;34m(\u001b[0m\u001b[0mstep\u001b[0m\u001b[0;34m)\u001b[0m\u001b[0;34m\u001b[0m\u001b[0;34m\u001b[0m\u001b[0m\n\u001b[0;32m--> 314\u001b[0;31m                     \u001b[0mlogs\u001b[0m \u001b[0;34m=\u001b[0m \u001b[0mself\u001b[0m\u001b[0;34m.\u001b[0m\u001b[0mtrain_function\u001b[0m\u001b[0;34m(\u001b[0m\u001b[0miterator\u001b[0m\u001b[0;34m)\u001b[0m\u001b[0;34m\u001b[0m\u001b[0;34m\u001b[0m\u001b[0m\n\u001b[0m\u001b[1;32m    315\u001b[0m                     \u001b[0mlogs\u001b[0m \u001b[0;34m=\u001b[0m \u001b[0mself\u001b[0m\u001b[0;34m.\u001b[0m\u001b[0m_pythonify_logs\u001b[0m\u001b[0;34m(\u001b[0m\u001b[0mlogs\u001b[0m\u001b[0;34m)\u001b[0m\u001b[0;34m\u001b[0m\u001b[0;34m\u001b[0m\u001b[0m\n\u001b[1;32m    316\u001b[0m                     \u001b[0mcallbacks\u001b[0m\u001b[0;34m.\u001b[0m\u001b[0mon_train_batch_end\u001b[0m\u001b[0;34m(\u001b[0m\u001b[0mstep\u001b[0m\u001b[0;34m,\u001b[0m \u001b[0mlogs\u001b[0m\u001b[0;34m)\u001b[0m\u001b[0;34m\u001b[0m\u001b[0;34m\u001b[0m\u001b[0m\n",
            "\u001b[0;32m/usr/local/lib/python3.10/dist-packages/tensorflow/python/util/traceback_utils.py\u001b[0m in \u001b[0;36merror_handler\u001b[0;34m(*args, **kwargs)\u001b[0m\n\u001b[1;32m    148\u001b[0m     \u001b[0mfiltered_tb\u001b[0m \u001b[0;34m=\u001b[0m \u001b[0;32mNone\u001b[0m\u001b[0;34m\u001b[0m\u001b[0;34m\u001b[0m\u001b[0m\n\u001b[1;32m    149\u001b[0m     \u001b[0;32mtry\u001b[0m\u001b[0;34m:\u001b[0m\u001b[0;34m\u001b[0m\u001b[0;34m\u001b[0m\u001b[0m\n\u001b[0;32m--> 150\u001b[0;31m       \u001b[0;32mreturn\u001b[0m \u001b[0mfn\u001b[0m\u001b[0;34m(\u001b[0m\u001b[0;34m*\u001b[0m\u001b[0margs\u001b[0m\u001b[0;34m,\u001b[0m \u001b[0;34m**\u001b[0m\u001b[0mkwargs\u001b[0m\u001b[0;34m)\u001b[0m\u001b[0;34m\u001b[0m\u001b[0;34m\u001b[0m\u001b[0m\n\u001b[0m\u001b[1;32m    151\u001b[0m     \u001b[0;32mexcept\u001b[0m \u001b[0mException\u001b[0m \u001b[0;32mas\u001b[0m \u001b[0me\u001b[0m\u001b[0;34m:\u001b[0m\u001b[0;34m\u001b[0m\u001b[0;34m\u001b[0m\u001b[0m\n\u001b[1;32m    152\u001b[0m       \u001b[0mfiltered_tb\u001b[0m \u001b[0;34m=\u001b[0m \u001b[0m_process_traceback_frames\u001b[0m\u001b[0;34m(\u001b[0m\u001b[0me\u001b[0m\u001b[0;34m.\u001b[0m\u001b[0m__traceback__\u001b[0m\u001b[0;34m)\u001b[0m\u001b[0;34m\u001b[0m\u001b[0;34m\u001b[0m\u001b[0m\n",
            "\u001b[0;32m/usr/local/lib/python3.10/dist-packages/tensorflow/python/eager/polymorphic_function/polymorphic_function.py\u001b[0m in \u001b[0;36m__call__\u001b[0;34m(self, *args, **kwds)\u001b[0m\n\u001b[1;32m    831\u001b[0m \u001b[0;34m\u001b[0m\u001b[0m\n\u001b[1;32m    832\u001b[0m       \u001b[0;32mwith\u001b[0m \u001b[0mOptionalXlaContext\u001b[0m\u001b[0;34m(\u001b[0m\u001b[0mself\u001b[0m\u001b[0;34m.\u001b[0m\u001b[0m_jit_compile\u001b[0m\u001b[0;34m)\u001b[0m\u001b[0;34m:\u001b[0m\u001b[0;34m\u001b[0m\u001b[0;34m\u001b[0m\u001b[0m\n\u001b[0;32m--> 833\u001b[0;31m         \u001b[0mresult\u001b[0m \u001b[0;34m=\u001b[0m \u001b[0mself\u001b[0m\u001b[0;34m.\u001b[0m\u001b[0m_call\u001b[0m\u001b[0;34m(\u001b[0m\u001b[0;34m*\u001b[0m\u001b[0margs\u001b[0m\u001b[0;34m,\u001b[0m \u001b[0;34m**\u001b[0m\u001b[0mkwds\u001b[0m\u001b[0;34m)\u001b[0m\u001b[0;34m\u001b[0m\u001b[0;34m\u001b[0m\u001b[0m\n\u001b[0m\u001b[1;32m    834\u001b[0m \u001b[0;34m\u001b[0m\u001b[0m\n\u001b[1;32m    835\u001b[0m       \u001b[0mnew_tracing_count\u001b[0m \u001b[0;34m=\u001b[0m \u001b[0mself\u001b[0m\u001b[0;34m.\u001b[0m\u001b[0mexperimental_get_tracing_count\u001b[0m\u001b[0;34m(\u001b[0m\u001b[0;34m)\u001b[0m\u001b[0;34m\u001b[0m\u001b[0;34m\u001b[0m\u001b[0m\n",
            "\u001b[0;32m/usr/local/lib/python3.10/dist-packages/tensorflow/python/eager/polymorphic_function/polymorphic_function.py\u001b[0m in \u001b[0;36m_call\u001b[0;34m(self, *args, **kwds)\u001b[0m\n\u001b[1;32m    853\u001b[0m     \u001b[0;34m\"\"\"Calls the graph function.\"\"\"\u001b[0m\u001b[0;34m\u001b[0m\u001b[0;34m\u001b[0m\u001b[0m\n\u001b[1;32m    854\u001b[0m     \u001b[0mself\u001b[0m\u001b[0;34m.\u001b[0m\u001b[0m_lock\u001b[0m\u001b[0;34m.\u001b[0m\u001b[0macquire\u001b[0m\u001b[0;34m(\u001b[0m\u001b[0;34m)\u001b[0m\u001b[0;34m\u001b[0m\u001b[0;34m\u001b[0m\u001b[0m\n\u001b[0;32m--> 855\u001b[0;31m     bound_args = function_type_utils.canonicalize_function_inputs(\n\u001b[0m\u001b[1;32m    856\u001b[0m         \u001b[0margs\u001b[0m\u001b[0;34m,\u001b[0m\u001b[0;34m\u001b[0m\u001b[0;34m\u001b[0m\u001b[0m\n\u001b[1;32m    857\u001b[0m         \u001b[0mkwds\u001b[0m\u001b[0;34m,\u001b[0m\u001b[0;34m\u001b[0m\u001b[0;34m\u001b[0m\u001b[0m\n",
            "\u001b[0;32m/usr/local/lib/python3.10/dist-packages/tensorflow/python/eager/polymorphic_function/function_type_utils.py\u001b[0m in \u001b[0;36mcanonicalize_function_inputs\u001b[0;34m(args, kwargs, function_type, default_values, is_pure)\u001b[0m\n\u001b[1;32m    420\u001b[0m   \u001b[0;32mif\u001b[0m \u001b[0mis_pure\u001b[0m\u001b[0;34m:\u001b[0m\u001b[0;34m\u001b[0m\u001b[0;34m\u001b[0m\u001b[0m\n\u001b[1;32m    421\u001b[0m     \u001b[0margs\u001b[0m\u001b[0;34m,\u001b[0m \u001b[0mkwargs\u001b[0m \u001b[0;34m=\u001b[0m \u001b[0m_convert_variables_to_tensors\u001b[0m\u001b[0;34m(\u001b[0m\u001b[0margs\u001b[0m\u001b[0;34m,\u001b[0m \u001b[0mkwargs\u001b[0m\u001b[0;34m)\u001b[0m\u001b[0;34m\u001b[0m\u001b[0;34m\u001b[0m\u001b[0m\n\u001b[0;32m--> 422\u001b[0;31m   bound_arguments = bind_function_inputs(\n\u001b[0m\u001b[1;32m    423\u001b[0m       \u001b[0margs\u001b[0m\u001b[0;34m,\u001b[0m \u001b[0mkwargs\u001b[0m\u001b[0;34m,\u001b[0m \u001b[0mfunction_type\u001b[0m\u001b[0;34m,\u001b[0m \u001b[0mdefault_values\u001b[0m\u001b[0;34m\u001b[0m\u001b[0;34m\u001b[0m\u001b[0m\n\u001b[1;32m    424\u001b[0m   )\n",
            "\u001b[0;32m/usr/local/lib/python3.10/dist-packages/tensorflow/python/eager/polymorphic_function/function_type_utils.py\u001b[0m in \u001b[0;36mbind_function_inputs\u001b[0;34m(args, kwargs, function_type, default_values)\u001b[0m\n\u001b[1;32m    440\u001b[0m \u001b[0;34m\u001b[0m\u001b[0m\n\u001b[1;32m    441\u001b[0m   \u001b[0;32mtry\u001b[0m\u001b[0;34m:\u001b[0m\u001b[0;34m\u001b[0m\u001b[0;34m\u001b[0m\u001b[0m\n\u001b[0;32m--> 442\u001b[0;31m     bound_arguments = function_type.bind_with_defaults(\n\u001b[0m\u001b[1;32m    443\u001b[0m         \u001b[0margs\u001b[0m\u001b[0;34m,\u001b[0m \u001b[0msanitized_kwargs\u001b[0m\u001b[0;34m,\u001b[0m \u001b[0mdefault_values\u001b[0m\u001b[0;34m\u001b[0m\u001b[0;34m\u001b[0m\u001b[0m\n\u001b[1;32m    444\u001b[0m     )\n",
            "\u001b[0;32m/usr/local/lib/python3.10/dist-packages/tensorflow/core/function/polymorphism/function_type.py\u001b[0m in \u001b[0;36mbind_with_defaults\u001b[0;34m(self, args, kwargs, default_values)\u001b[0m\n\u001b[1;32m    262\u001b[0m   \u001b[0;32mdef\u001b[0m \u001b[0mbind_with_defaults\u001b[0m\u001b[0;34m(\u001b[0m\u001b[0mself\u001b[0m\u001b[0;34m,\u001b[0m \u001b[0margs\u001b[0m\u001b[0;34m,\u001b[0m \u001b[0mkwargs\u001b[0m\u001b[0;34m,\u001b[0m \u001b[0mdefault_values\u001b[0m\u001b[0;34m)\u001b[0m\u001b[0;34m:\u001b[0m\u001b[0;34m\u001b[0m\u001b[0;34m\u001b[0m\u001b[0m\n\u001b[1;32m    263\u001b[0m     \u001b[0;34m\"\"\"Returns BoundArguments with default values filled in.\"\"\"\u001b[0m\u001b[0;34m\u001b[0m\u001b[0;34m\u001b[0m\u001b[0m\n\u001b[0;32m--> 264\u001b[0;31m     \u001b[0mbound_arguments\u001b[0m \u001b[0;34m=\u001b[0m \u001b[0mself\u001b[0m\u001b[0;34m.\u001b[0m\u001b[0mbind\u001b[0m\u001b[0;34m(\u001b[0m\u001b[0;34m*\u001b[0m\u001b[0margs\u001b[0m\u001b[0;34m,\u001b[0m \u001b[0;34m**\u001b[0m\u001b[0mkwargs\u001b[0m\u001b[0;34m)\u001b[0m\u001b[0;34m\u001b[0m\u001b[0;34m\u001b[0m\u001b[0m\n\u001b[0m\u001b[1;32m    265\u001b[0m     \u001b[0mbound_arguments\u001b[0m\u001b[0;34m.\u001b[0m\u001b[0mapply_defaults\u001b[0m\u001b[0;34m(\u001b[0m\u001b[0;34m)\u001b[0m\u001b[0;34m\u001b[0m\u001b[0;34m\u001b[0m\u001b[0m\n\u001b[1;32m    266\u001b[0m \u001b[0;34m\u001b[0m\u001b[0m\n",
            "\u001b[0;32m/usr/lib/python3.10/inspect.py\u001b[0m in \u001b[0;36mbind\u001b[0;34m(self, *args, **kwargs)\u001b[0m\n\u001b[1;32m   3184\u001b[0m         \u001b[0;32mif\u001b[0m \u001b[0mthe\u001b[0m \u001b[0mpassed\u001b[0m \u001b[0marguments\u001b[0m \u001b[0mcan\u001b[0m \u001b[0;32mnot\u001b[0m \u001b[0mbe\u001b[0m \u001b[0mbound\u001b[0m\u001b[0;34m.\u001b[0m\u001b[0;34m\u001b[0m\u001b[0;34m\u001b[0m\u001b[0m\n\u001b[1;32m   3185\u001b[0m         \"\"\"\n\u001b[0;32m-> 3186\u001b[0;31m         \u001b[0;32mreturn\u001b[0m \u001b[0mself\u001b[0m\u001b[0;34m.\u001b[0m\u001b[0m_bind\u001b[0m\u001b[0;34m(\u001b[0m\u001b[0margs\u001b[0m\u001b[0;34m,\u001b[0m \u001b[0mkwargs\u001b[0m\u001b[0;34m)\u001b[0m\u001b[0;34m\u001b[0m\u001b[0;34m\u001b[0m\u001b[0m\n\u001b[0m\u001b[1;32m   3187\u001b[0m \u001b[0;34m\u001b[0m\u001b[0m\n\u001b[1;32m   3188\u001b[0m     \u001b[0;32mdef\u001b[0m \u001b[0mbind_partial\u001b[0m\u001b[0;34m(\u001b[0m\u001b[0mself\u001b[0m\u001b[0;34m,\u001b[0m \u001b[0;34m/\u001b[0m\u001b[0;34m,\u001b[0m \u001b[0;34m*\u001b[0m\u001b[0margs\u001b[0m\u001b[0;34m,\u001b[0m \u001b[0;34m**\u001b[0m\u001b[0mkwargs\u001b[0m\u001b[0;34m)\u001b[0m\u001b[0;34m:\u001b[0m\u001b[0;34m\u001b[0m\u001b[0;34m\u001b[0m\u001b[0m\n",
            "\u001b[0;32m/usr/lib/python3.10/inspect.py\u001b[0m in \u001b[0;36m_bind\u001b[0;34m(self, args, kwargs, partial)\u001b[0m\n\u001b[1;32m   3177\u001b[0m                         arg=next(iter(kwargs))))\n\u001b[1;32m   3178\u001b[0m \u001b[0;34m\u001b[0m\u001b[0m\n\u001b[0;32m-> 3179\u001b[0;31m         \u001b[0;32mreturn\u001b[0m \u001b[0mself\u001b[0m\u001b[0;34m.\u001b[0m\u001b[0m_bound_arguments_cls\u001b[0m\u001b[0;34m(\u001b[0m\u001b[0mself\u001b[0m\u001b[0;34m,\u001b[0m \u001b[0marguments\u001b[0m\u001b[0;34m)\u001b[0m\u001b[0;34m\u001b[0m\u001b[0;34m\u001b[0m\u001b[0m\n\u001b[0m\u001b[1;32m   3180\u001b[0m \u001b[0;34m\u001b[0m\u001b[0m\n\u001b[1;32m   3181\u001b[0m     \u001b[0;32mdef\u001b[0m \u001b[0mbind\u001b[0m\u001b[0;34m(\u001b[0m\u001b[0mself\u001b[0m\u001b[0;34m,\u001b[0m \u001b[0;34m/\u001b[0m\u001b[0;34m,\u001b[0m \u001b[0;34m*\u001b[0m\u001b[0margs\u001b[0m\u001b[0;34m,\u001b[0m \u001b[0;34m**\u001b[0m\u001b[0mkwargs\u001b[0m\u001b[0;34m)\u001b[0m\u001b[0;34m:\u001b[0m\u001b[0;34m\u001b[0m\u001b[0;34m\u001b[0m\u001b[0m\n",
            "\u001b[0;32m/usr/lib/python3.10/inspect.py\u001b[0m in \u001b[0;36m__init__\u001b[0;34m(self, signature, arguments)\u001b[0m\n\u001b[1;32m   2777\u001b[0m     \u001b[0m__slots__\u001b[0m \u001b[0;34m=\u001b[0m \u001b[0;34m(\u001b[0m\u001b[0;34m'arguments'\u001b[0m\u001b[0;34m,\u001b[0m \u001b[0;34m'_signature'\u001b[0m\u001b[0;34m,\u001b[0m \u001b[0;34m'__weakref__'\u001b[0m\u001b[0;34m)\u001b[0m\u001b[0;34m\u001b[0m\u001b[0;34m\u001b[0m\u001b[0m\n\u001b[1;32m   2778\u001b[0m \u001b[0;34m\u001b[0m\u001b[0m\n\u001b[0;32m-> 2779\u001b[0;31m     \u001b[0;32mdef\u001b[0m \u001b[0m__init__\u001b[0m\u001b[0;34m(\u001b[0m\u001b[0mself\u001b[0m\u001b[0;34m,\u001b[0m \u001b[0msignature\u001b[0m\u001b[0;34m,\u001b[0m \u001b[0marguments\u001b[0m\u001b[0;34m)\u001b[0m\u001b[0;34m:\u001b[0m\u001b[0;34m\u001b[0m\u001b[0;34m\u001b[0m\u001b[0m\n\u001b[0m\u001b[1;32m   2780\u001b[0m         \u001b[0mself\u001b[0m\u001b[0;34m.\u001b[0m\u001b[0marguments\u001b[0m \u001b[0;34m=\u001b[0m \u001b[0marguments\u001b[0m\u001b[0;34m\u001b[0m\u001b[0;34m\u001b[0m\u001b[0m\n\u001b[1;32m   2781\u001b[0m         \u001b[0mself\u001b[0m\u001b[0;34m.\u001b[0m\u001b[0m_signature\u001b[0m \u001b[0;34m=\u001b[0m \u001b[0msignature\u001b[0m\u001b[0;34m\u001b[0m\u001b[0;34m\u001b[0m\u001b[0m\n",
            "\u001b[0;31mKeyboardInterrupt\u001b[0m: "
          ]
        }
      ]
    },
    {
      "cell_type": "code",
      "source": [
        "import matplotlib.pyplot as plt\n",
        "\n",
        "plt.figure(figsize=(10, 5))\n",
        "plt.plot(baseline_history.history['sparse_categorical_accuracy'], label='Baseline Accuracy')\n",
        "plt.plot(test_history.history['sparse_categorical_accuracy'], label='Test Accuracy')\n",
        "plt.title('Comparison of Baseline and Test Sparse Categorical Accuracy')\n",
        "plt.xlabel('Epochs')\n",
        "plt.ylabel('Accuracy')\n",
        "plt.legend()\n",
        "plt.grid(True)\n",
        "plt.show()"
      ],
      "metadata": {
        "colab": {
          "base_uri": "https://localhost:8080/",
          "height": 487
        },
        "id": "dMd2s6l7P02D",
        "outputId": "f862d543-1b27-4f80-9ed2-5af1f21c3c40"
      },
      "execution_count": null,
      "outputs": [
        {
          "output_type": "display_data",
          "data": {
            "text/plain": [
              "<Figure size 1000x500 with 1 Axes>"
            ],
            "image/png": "[encoded data removed]"
          },
          "metadata": {}
        }
      ]
    }
  ]
}